{
 "metadata": {
  "name": "",
  "signature": "sha256:8694452ac4552a59e869833ecbf9fa4295b5eb9f0720a57699c385cc1d5b0876"
 },
 "nbformat": 3,
 "nbformat_minor": 0,
 "worksheets": [
  {
   "cells": [
    {
     "cell_type": "code",
     "collapsed": false,
     "input": [
      "import functools, operator, itertools, collections\n",
      "import unicodedata\n",
      "import os\n",
      "import os.path as op\n",
      "import re\n",
      "import locale\n",
      "import sys\n",
      "import pandas as pd\n",
      "import numpy as np\n",
      "import matplotlib.pyplot as plt\n",
      "%matplotlib inline"
     ],
     "language": "python",
     "metadata": {},
     "outputs": [],
     "prompt_number": 51
    },
    {
     "cell_type": "code",
     "collapsed": false,
     "input": [
      "pd.set_option('display.max_columns', None)"
     ],
     "language": "python",
     "metadata": {},
     "outputs": [],
     "prompt_number": 35
    },
    {
     "cell_type": "code",
     "collapsed": false,
     "input": [
      "names = ['id', 'numero', 'voie', 'code_post', 'nom_comm', 'source', 'lat', 'lon']"
     ],
     "language": "python",
     "metadata": {},
     "outputs": [],
     "prompt_number": 36
    },
    {
     "cell_type": "code",
     "collapsed": false,
     "input": [
      "def normalize(s):\n",
      "    s = unicode(s)\n",
      "    su = unicodedata.normalize('NFKD', s.lower())\n",
      "    return su.encode('ascii', 'ignore')"
     ],
     "language": "python",
     "metadata": {},
     "outputs": [],
     "prompt_number": 92
    },
    {
     "cell_type": "code",
     "collapsed": false,
     "input": [
      "def normalize_series(series):\n",
      "    return pd.Series(normalize(s) for s in series)"
     ],
     "language": "python",
     "metadata": {},
     "outputs": [],
     "prompt_number": 94
    },
    {
     "cell_type": "code",
     "collapsed": false,
     "input": [
      "def load_dept_base(dept, dir=None):\n",
      "    b = pd.read_csv('{0:s}/bano-{1:s}.csv'.format(dir, dept), header=None, names=names)\n",
      "    b['insee_com'] = b.id.str.slice(0, 5)\n",
      "    b['voie'] = normalize_series(b['voie'])\n",
      "    b['code_post'] = b['code_post'].astype(str).str.pad(5, side='left').str.replace(' ', '0')\n",
      "    return b"
     ],
     "language": "python",
     "metadata": {},
     "outputs": [],
     "prompt_number": 106
    },
    {
     "cell_type": "code",
     "collapsed": false,
     "input": [
      "def get_dept_list(dir):\n",
      "    r = re.compile(r'bano-([0-9AB]{2,3}).csv')\n",
      "    return sorted([r.search(f).group(1) \n",
      "                   for f in os.listdir(dir) if r.match(f)])"
     ],
     "language": "python",
     "metadata": {},
     "outputs": [],
     "prompt_number": 107
    },
    {
     "cell_type": "code",
     "collapsed": false,
     "input": [
      "class AddressLocator(object):\n",
      "    def __init__(self, dir):\n",
      "        self._dir = dir\n",
      "        self._dfs = {}\n",
      "    \n",
      "    def _get_dept_base(self, dept):\n",
      "        if dept not in self._dfs:\n",
      "            self._dfs[dept] = load_dept_base(dept, dir=self._dir)\n",
      "        return self._dfs[dept]\n",
      "    \n",
      "    def _load(self):\n",
      "        self._dfs = {dept: self._get_dept_base(dept)\n",
      "                     for dept in get_dept_list(self._dir)}\n",
      "        \n",
      "    def __getitem__(self, dept):\n",
      "        if not isinstance(dept, str):\n",
      "            dept = '{0:02d}'.format(dept)\n",
      "        return self._get_dept_base(dept)\n",
      "    \n",
      "    def rgeocode(self, numero=None, voie=None, code_post=None, \n",
      "                        nom_comm=None, insee_com=None, dept=None):\n",
      "        assert code_post is not None\n",
      "        code_post = str(code_post).rjust(5, '0')\n",
      "        dept = dept or code_post[:2]\n",
      "        numero = str(numero)\n",
      "        df = self[dept]\n",
      "        df1 = df[#(df.code_post == code_post) & \n",
      "                 (df.voie == voie) & \n",
      "                 (df.numero == numero)]\n",
      "        if len(df1)>0:\n",
      "            return tuple(df1.ix[df1.index[0]][['lat', 'lon']])\n",
      "        return 0., 0."
     ],
     "language": "python",
     "metadata": {},
     "outputs": [],
     "prompt_number": 142
    },
    {
     "cell_type": "code",
     "collapsed": false,
     "input": [
      "al = AddressLocator('bano')"
     ],
     "language": "python",
     "metadata": {},
     "outputs": [],
     "prompt_number": 143
    },
    {
     "cell_type": "code",
     "collapsed": false,
     "input": [
      "al.rgeocode(numero=212, voie='avenue du maine', code_post=75014)"
     ],
     "language": "python",
     "metadata": {},
     "outputs": [
      {
       "metadata": {},
       "output_type": "pyout",
       "prompt_number": 149,
       "text": [
        "(48.829658000000002, 2.325879)"
       ]
      }
     ],
     "prompt_number": 149
    },
    {
     "cell_type": "code",
     "collapsed": false,
     "input": [],
     "language": "python",
     "metadata": {},
     "outputs": []
    }
   ],
   "metadata": {}
  }
 ]
}