{
 "metadata": {
  "name": "",
  "signature": "sha256:1a96e49136406e2648813cdd76028b19516e270f363eaeba63ad9f93abd46bc3"
 },
 "nbformat": 3,
 "nbformat_minor": 0,
 "worksheets": [
  {
   "cells": [
    {
     "cell_type": "code",
     "collapsed": false,
     "input": [
      "import pandas as pd\n",
      "import numpy as np\n",
      "import matplotlib.pyplot as plt\n",
      "%matplotlib inline"
     ],
     "language": "python",
     "metadata": {},
     "outputs": [],
     "prompt_number": 15
    },
    {
     "cell_type": "code",
     "collapsed": false,
     "input": [
      "pd.set_option('display.max_columns', None)"
     ],
     "language": "python",
     "metadata": {},
     "outputs": [],
     "prompt_number": 16
    },
    {
     "cell_type": "code",
     "collapsed": false,
     "input": [
      "dsc = pd.read_csv('data2012/caracteristiques.csv', index_col=0)\n",
      "dsv = pd.read_csv('data2012/vehicules.csv', index_col=0)\n",
      "dsu = pd.read_csv('data2012/usagers.csv', index_col=0)\n",
      "dsl = pd.read_csv('data2012/lieux.csv', index_col=0)"
     ],
     "language": "python",
     "metadata": {},
     "outputs": []
    }
   ],
   "metadata": {}
  }
 ]
}