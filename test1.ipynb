{
 "metadata": {
  "name": "",
  "signature": "sha256:2614564daa2b602f654efe014ef37d7ca1fad318fb2879799ddc8293224235af"
 },
 "nbformat": 3,
 "nbformat_minor": 0,
 "worksheets": [
  {
   "cells": [
    {
     "cell_type": "code",
     "collapsed": false,
     "input": [
      "import pandas as pd\n",
      "import numpy as np\n",
      "import matplotlib.pyplot as plt\n",
      "%matplotlib inline"
     ],
     "language": "python",
     "metadata": {},
     "outputs": [],
     "prompt_number": 71
    },
    {
     "cell_type": "code",
     "collapsed": false,
     "input": [
      "accidents = pd.read_csv('data/accidents_insee.csv', delimiter=';')"
     ],
     "language": "python",
     "metadata": {},
     "outputs": [
      {
       "output_type": "stream",
       "stream": "stderr",
       "text": [
        "P:\\Anaconda\\lib\\site-packages\\pandas\\io\\parsers.py:1130: DtypeWarning: Columns (15,29,31,36) have mixed types. Specify dtype option on import or set low_memory=False.\n",
        "  data = self._reader.read(nrows)\n"
       ]
      }
     ],
     "prompt_number": 2
    },
    {
     "cell_type": "code",
     "collapsed": false,
     "input": [
      "cols = accidents.columns"
     ],
     "language": "python",
     "metadata": {},
     "outputs": [],
     "prompt_number": 3
    },
    {
     "cell_type": "code",
     "collapsed": false,
     "input": [
      "pd.version.version"
     ],
     "language": "python",
     "metadata": {},
     "outputs": [
      {
       "metadata": {},
       "output_type": "pyout",
       "prompt_number": 4,
       "text": [
        "'0.14.0'"
       ]
      }
     ],
     "prompt_number": 4
    },
    {
     "cell_type": "code",
     "collapsed": false,
     "input": [
      "N = len(accidents)"
     ],
     "language": "python",
     "metadata": {},
     "outputs": [],
     "prompt_number": 22
    },
    {
     "cell_type": "code",
     "collapsed": false,
     "input": [
      "accidents.head()"
     ],
     "language": "python",
     "metadata": {},
     "outputs": [
      {
       "html": [
        "<div style=\"max-height:1000px;max-width:1500px;overflow:auto;\">\n",
        "<table border=\"1\" class=\"dataframe\">\n",
        "  <thead>\n",
        "    <tr style=\"text-align: right;\">\n",
        "      <th></th>\n",
        "      <th>org</th>\n",
        "      <th>lum</th>\n",
        "      <th>agg</th>\n",
        "      <th>int</th>\n",
        "      <th>atm</th>\n",
        "      <th>col</th>\n",
        "      <th>com</th>\n",
        "      <th>dep</th>\n",
        "      <th>catr</th>\n",
        "      <th>infra</th>\n",
        "      <th>...</th>\n",
        "      <th>coderivoli</th>\n",
        "      <th>grav</th>\n",
        "      <th>gps</th>\n",
        "      <th>lat</th>\n",
        "      <th>long</th>\n",
        "      <th>adr</th>\n",
        "      <th>numac</th>\n",
        "      <th>codeinsee</th>\n",
        "      <th>geoflamatch</th>\n",
        "      <th>nbimplique</th>\n",
        "    </tr>\n",
        "  </thead>\n",
        "  <tbody>\n",
        "    <tr>\n",
        "      <th>0</th>\n",
        "      <td> 1</td>\n",
        "      <td> 1</td>\n",
        "      <td> 1</td>\n",
        "      <td> 1</td>\n",
        "      <td> 1</td>\n",
        "      <td> 3</td>\n",
        "      <td> 305</td>\n",
        "      <td> 973</td>\n",
        "      <td>NaN</td>\n",
        "      <td>NaN</td>\n",
        "      <td>...</td>\n",
        "      <td> NaN</td>\n",
        "      <td> 10.8</td>\n",
        "      <td> G</td>\n",
        "      <td> 0</td>\n",
        "      <td> 0</td>\n",
        "      <td>                    NaN</td>\n",
        "      <td> 382566</td>\n",
        "      <td> 97305</td>\n",
        "      <td> N</td>\n",
        "      <td> 2</td>\n",
        "    </tr>\n",
        "    <tr>\n",
        "      <th>1</th>\n",
        "      <td> 1</td>\n",
        "      <td> 1</td>\n",
        "      <td> 5</td>\n",
        "      <td> 1</td>\n",
        "      <td> 1</td>\n",
        "      <td> 3</td>\n",
        "      <td> 311</td>\n",
        "      <td> 973</td>\n",
        "      <td>NaN</td>\n",
        "      <td>NaN</td>\n",
        "      <td>...</td>\n",
        "      <td> NaN</td>\n",
        "      <td> 10.8</td>\n",
        "      <td> G</td>\n",
        "      <td> 0</td>\n",
        "      <td> 0</td>\n",
        "      <td>     13 Rue H. RIVIEREZ</td>\n",
        "      <td> 382567</td>\n",
        "      <td> 97311</td>\n",
        "      <td> N</td>\n",
        "      <td> 3</td>\n",
        "    </tr>\n",
        "    <tr>\n",
        "      <th>2</th>\n",
        "      <td> 1</td>\n",
        "      <td> 1</td>\n",
        "      <td> 5</td>\n",
        "      <td> 1</td>\n",
        "      <td> 1</td>\n",
        "      <td> 3</td>\n",
        "      <td> 309</td>\n",
        "      <td> 973</td>\n",
        "      <td>NaN</td>\n",
        "      <td>NaN</td>\n",
        "      <td>...</td>\n",
        "      <td> NaN</td>\n",
        "      <td> 10.8</td>\n",
        "      <td> G</td>\n",
        "      <td> 0</td>\n",
        "      <td> 0</td>\n",
        "      <td> PK7, route de Montjoly</td>\n",
        "      <td> 382568</td>\n",
        "      <td> 97309</td>\n",
        "      <td> N</td>\n",
        "      <td> 2</td>\n",
        "    </tr>\n",
        "    <tr>\n",
        "      <th>3</th>\n",
        "      <td> 1</td>\n",
        "      <td> 1</td>\n",
        "      <td> 5</td>\n",
        "      <td> 1</td>\n",
        "      <td> 1</td>\n",
        "      <td> 3</td>\n",
        "      <td> 304</td>\n",
        "      <td> 973</td>\n",
        "      <td>NaN</td>\n",
        "      <td>NaN</td>\n",
        "      <td>...</td>\n",
        "      <td> NaN</td>\n",
        "      <td> 10.8</td>\n",
        "      <td> G</td>\n",
        "      <td> 0</td>\n",
        "      <td> 0</td>\n",
        "      <td>           rue Duchesne</td>\n",
        "      <td> 382569</td>\n",
        "      <td> 97304</td>\n",
        "      <td> N</td>\n",
        "      <td> 5</td>\n",
        "    </tr>\n",
        "    <tr>\n",
        "      <th>4</th>\n",
        "      <td> 1</td>\n",
        "      <td> 1</td>\n",
        "      <td> 4</td>\n",
        "      <td> 1</td>\n",
        "      <td> 1</td>\n",
        "      <td> 2</td>\n",
        "      <td> 312</td>\n",
        "      <td> 973</td>\n",
        "      <td>NaN</td>\n",
        "      <td>NaN</td>\n",
        "      <td>...</td>\n",
        "      <td> NaN</td>\n",
        "      <td> 10.8</td>\n",
        "      <td> G</td>\n",
        "      <td> 0</td>\n",
        "      <td> 0</td>\n",
        "      <td>           ancienne RN1</td>\n",
        "      <td> 382570</td>\n",
        "      <td> 97312</td>\n",
        "      <td> N</td>\n",
        "      <td> 2</td>\n",
        "    </tr>\n",
        "  </tbody>\n",
        "</table>\n",
        "<p>5 rows \u00d7 39 columns</p>\n",
        "</div>"
       ],
       "metadata": {},
       "output_type": "pyout",
       "prompt_number": 5,
       "text": [
        "   org  lum  agg  int  atm  col  com  dep  catr  infra  ...    coderivoli  \\\n",
        "0    1    1    1    1    1    3  305  973   NaN    NaN  ...           NaN   \n",
        "1    1    1    5    1    1    3  311  973   NaN    NaN  ...           NaN   \n",
        "2    1    1    5    1    1    3  309  973   NaN    NaN  ...           NaN   \n",
        "3    1    1    5    1    1    3  304  973   NaN    NaN  ...           NaN   \n",
        "4    1    1    4    1    1    2  312  973   NaN    NaN  ...           NaN   \n",
        "\n",
        "   grav gps  lat  long                     adr   numac  codeinsee  \\\n",
        "0  10.8   G    0     0                     NaN  382566      97305   \n",
        "1  10.8   G    0     0      13 Rue H. RIVIEREZ  382567      97311   \n",
        "2  10.8   G    0     0  PK7, route de Montjoly  382568      97309   \n",
        "3  10.8   G    0     0            rue Duchesne  382569      97304   \n",
        "4  10.8   G    0     0            ancienne RN1  382570      97312   \n",
        "\n",
        "   geoflamatch  nbimplique  \n",
        "0            N           2  \n",
        "1            N           3  \n",
        "2            N           2  \n",
        "3            N           5  \n",
        "4            N           2  \n",
        "\n",
        "[5 rows x 39 columns]"
       ]
      }
     ],
     "prompt_number": 5
    },
    {
     "cell_type": "code",
     "collapsed": false,
     "input": [
      "geoloc = (accidents.lat.notnull() & accidents.long.notnull() &\n",
      "          (np.abs(accidents.lat)>0) & np.abs(accidents.long)>0)"
     ],
     "language": "python",
     "metadata": {},
     "outputs": [],
     "prompt_number": 50
    },
    {
     "cell_type": "code",
     "collapsed": false,
     "input": [
      "geoloc"
     ],
     "language": "python",
     "metadata": {},
     "outputs": [
      {
       "metadata": {},
       "output_type": "pyout",
       "prompt_number": 49,
       "text": [
        "0      True\n",
        "1      True\n",
        "2      True\n",
        "3      True\n",
        "4      True\n",
        "5      True\n",
        "6      True\n",
        "7     False\n",
        "8     False\n",
        "9      True\n",
        "10     True\n",
        "11     True\n",
        "12     True\n",
        "13     True\n",
        "14     True\n",
        "...\n",
        "454357    False\n",
        "454358     True\n",
        "454359     True\n",
        "454360     True\n",
        "454361    False\n",
        "454362    False\n",
        "454363    False\n",
        "454364     True\n",
        "454365     True\n",
        "454366     True\n",
        "454367     True\n",
        "454368     True\n",
        "454369    False\n",
        "454370    False\n",
        "454371     True\n",
        "Length: 454372, dtype: bool"
       ]
      }
     ],
     "prompt_number": 49
    },
    {
     "cell_type": "code",
     "collapsed": false,
     "input": [
      "accgeoloc = accidents.ix[geoloc]"
     ],
     "language": "python",
     "metadata": {},
     "outputs": [],
     "prompt_number": 52
    },
    {
     "cell_type": "code",
     "collapsed": false,
     "input": [
      "long=(accgeoloc.long/1e5).astype(str)"
     ],
     "language": "python",
     "metadata": {},
     "outputs": [],
     "prompt_number": 86
    },
    {
     "cell_type": "code",
     "collapsed": false,
     "input": [
      "lat=(accgeoloc.lat/1e5).astype(str)"
     ],
     "language": "python",
     "metadata": {},
     "outputs": [],
     "prompt_number": 87
    },
    {
     "cell_type": "code",
     "collapsed": false,
     "input": [
      "accgeoloc['long'] = accgeoloc['long'] * 1e5\n",
      "accgeoloc['lat'] = accgeoloc['lat'] * 1e5"
     ],
     "language": "python",
     "metadata": {},
     "outputs": [],
     "prompt_number": 100
    },
    {
     "cell_type": "code",
     "collapsed": false,
     "input": [
      "accgeoloc['geoloc'] = long + ', ' + lat"
     ],
     "language": "python",
     "metadata": {},
     "outputs": [],
     "prompt_number": 93
    },
    {
     "cell_type": "code",
     "collapsed": false,
     "input": [
      "#accgeoloc=accgeoloc.drop(accgeoloc.index[[0]])"
     ],
     "language": "python",
     "metadata": {},
     "outputs": [],
     "prompt_number": 105
    },
    {
     "cell_type": "code",
     "collapsed": false,
     "input": [
      "accgeoloc.lat"
     ],
     "language": "python",
     "metadata": {},
     "outputs": [
      {
       "metadata": {},
       "output_type": "pyout",
       "prompt_number": 107,
       "text": [
        "285     41.7020\n",
        "286     41.7020\n",
        "287     42.1090\n",
        "292     41.7070\n",
        "298     46.9280\n",
        "299     46.9520\n",
        "300     46.9470\n",
        "347     49.8760\n",
        "1117    43.3253\n",
        "1120    43.3479\n",
        "1121    43.2827\n",
        "1122    43.6032\n",
        "1125    43.2767\n",
        "1131    43.2875\n",
        "1136    43.3815\n",
        "...\n",
        "453512    45.26160\n",
        "453513    45.25030\n",
        "453514    45.27710\n",
        "453515    45.27120\n",
        "453516    45.26090\n",
        "453517    45.54829\n",
        "453518    45.53870\n",
        "453519    45.54800\n",
        "453520    45.55530\n",
        "453521    47.39120\n",
        "453525    42.30500\n",
        "453530    42.63600\n",
        "453531    47.60360\n",
        "453537    43.33000\n",
        "454004    15.87600\n",
        "Name: lat, Length: 100019, dtype: float64"
       ]
      }
     ],
     "prompt_number": 107
    },
    {
     "cell_type": "code",
     "collapsed": false,
     "input": [
      "import csv\n",
      "csv.QUOTE_ALL\n",
      "accgeoloc.to_csv('data/accidents_geoloc.csv', sep=';', doublequote=True, quoting=csv.QUOTE_ALL)"
     ],
     "language": "python",
     "metadata": {},
     "outputs": [],
     "prompt_number": 108
    },
    {
     "cell_type": "code",
     "collapsed": false,
     "input": [
      "len(accgeoloc)"
     ],
     "language": "python",
     "metadata": {},
     "outputs": [
      {
       "metadata": {},
       "output_type": "pyout",
       "prompt_number": 109,
       "text": [
        "100019"
       ]
      }
     ],
     "prompt_number": 109
    },
    {
     "cell_type": "code",
     "collapsed": false,
     "input": [
      "cols"
     ],
     "language": "python",
     "metadata": {},
     "outputs": [
      {
       "metadata": {},
       "output_type": "pyout",
       "prompt_number": 18,
       "text": [
        "Index(['org', 'lum', 'agg', 'int', 'atm', 'col', 'com', 'dep', 'catr', 'infra', 'voie', 'v1', 'v2', 'circ', 'nbv', 'pr', 'pr1', 'vosp', 'prof', 'plan', 'situ', 'ttue', 'tbg', 'tbl', 'tindm', 'typenumero', 'numero', 'distancemetre', 'libellevoie', 'coderivoli', 'grav', 'gps', 'lat', 'long', 'adr', 'numac', 'codeinsee', 'geoflamatch', 'nbimplique'], dtype='object')"
       ]
      }
     ],
     "prompt_number": 18
    },
    {
     "cell_type": "code",
     "collapsed": false,
     "input": [
      "notnull = accidents.notnull().sum()/float(N)*100\n",
      "notnull.sort()\n",
      "notnull[::-1]"
     ],
     "language": "python",
     "metadata": {},
     "outputs": [
      {
       "metadata": {},
       "output_type": "pyout",
       "prompt_number": 29,
       "text": [
        "nbimplique       100.000000\n",
        "tindm            100.000000\n",
        "lum              100.000000\n",
        "agg              100.000000\n",
        "int              100.000000\n",
        "com              100.000000\n",
        "dep              100.000000\n",
        "geoflamatch      100.000000\n",
        "ttue             100.000000\n",
        "tbg              100.000000\n",
        "tbl              100.000000\n",
        "org              100.000000\n",
        "codeinsee        100.000000\n",
        "numac            100.000000\n",
        "grav             100.000000\n",
        "col               99.998019\n",
        "atm               99.994938\n",
        "catr              96.989911\n",
        "situ              96.948315\n",
        "circ              96.942153\n",
        "plan              96.936871\n",
        "prof              96.936211\n",
        "infra             96.913322\n",
        "vosp              96.869525\n",
        "nbv               96.794257\n",
        "voie              92.834506\n",
        "libellevoie       71.441022\n",
        "typenumero        71.376317\n",
        "distancemetre     70.870564\n",
        "v1                52.092338\n",
        "pr                50.000880\n",
        "pr1               49.913287\n",
        "numero            45.232321\n",
        "lat               36.519196\n",
        "long              36.503130\n",
        "v2                 4.768340\n",
        "adr                2.431268\n",
        "gps                0.995000\n",
        "coderivoli         0.031032\n",
        "dtype: float64"
       ]
      }
     ],
     "prompt_number": 29
    },
    {
     "cell_type": "code",
     "collapsed": false,
     "input": [
      "vehic = pd.read_csv(\"data/vehicules.csv\")"
     ],
     "language": "python",
     "metadata": {},
     "outputs": [
      {
       "output_type": "stream",
       "stream": "stderr",
       "text": [
        "P:\\Anaconda\\lib\\site-packages\\pandas\\io\\parsers.py:1130: DtypeWarning: Columns (4) have mixed types. Specify dtype option on import or set low_memory=False.\n",
        "  data = self._reader.read(nrows)\n"
       ]
      }
     ],
     "prompt_number": 30
    },
    {
     "cell_type": "code",
     "collapsed": false,
     "input": [
      "(accidents.catr.isin((2,3,4)) & ~accidents.pr.notnull()).sum()"
     ],
     "language": "python",
     "metadata": {},
     "outputs": [
      {
       "metadata": {},
       "output_type": "pyout",
       "prompt_number": 68,
       "text": [
        "205091"
       ]
      }
     ],
     "prompt_number": 68
    },
    {
     "cell_type": "code",
     "collapsed": false,
     "input": [
      "accidents.catr.ix[(~accidents.pr.notnull())].hist(bins=np.arange(10)-.5)"
     ],
     "language": "python",
     "metadata": {},
     "outputs": [
      {
       "metadata": {},
       "output_type": "pyout",
       "prompt_number": 75,
       "text": [
        "<matplotlib.axes.AxesSubplot at 0x1750fcc0>"
       ]
      },
      {
       "metadata": {},
       "output_type": "display_data",
       "png": "[encoded data removed]",
       "text": [
        "<matplotlib.figure.Figure at 0xadd2668>"
       ]
      }
     ],
     "prompt_number": 75
    },
    {
     "cell_type": "code",
     "collapsed": false,
     "input": [
      "accidents.grav.hist(bins=np.linspace(0, 500, 100));"
     ],
     "language": "python",
     "metadata": {},
     "outputs": [
      {
       "metadata": {},
       "output_type": "display_data",
       "png": "[encoded data removed]",
       "text": [
        "<matplotlib.figure.Figure at 0x1e7a00b8>"
       ]
      }
     ],
     "prompt_number": 126
    },
    {
     "cell_type": "code",
     "collapsed": false,
     "input": [
      "accidents.grav.min()"
     ],
     "language": "python",
     "metadata": {},
     "outputs": [
      {
       "metadata": {},
       "output_type": "pyout",
       "prompt_number": 127,
       "text": [
        "0.42999999999999999"
       ]
      }
     ],
     "prompt_number": 127
    }
   ],
   "metadata": {}
  }
 ]
}