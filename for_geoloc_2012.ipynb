{
 "metadata": {
  "name": "",
  "signature": "sha256:99e71f76373500bdfa3c1eb7768367ab1a4361e33fd985fcdfd2ccb892c1cfcb"
 },
 "nbformat": 3,
 "nbformat_minor": 0,
 "worksheets": [
  {
   "cells": [
    {
     "cell_type": "code",
     "collapsed": false,
     "input": [
      "import functools\n",
      "import locale\n",
      "import sys\n",
      "import pandas as pd\n",
      "import numpy as np\n",
      "import matplotlib.pyplot as plt\n",
      "%matplotlib inline"
     ],
     "language": "python",
     "metadata": {},
     "outputs": [],
     "prompt_number": 1
    },
    {
     "cell_type": "code",
     "collapsed": false,
     "input": [
      "pd.set_option('display.max_columns', None)"
     ],
     "language": "python",
     "metadata": {},
     "outputs": [],
     "prompt_number": 2
    },
    {
     "cell_type": "markdown",
     "metadata": {},
     "source": [
      "## Load databases"
     ]
    },
    {
     "cell_type": "raw",
     "metadata": {},
     "source": [
      "ds = pd.read_csv('data2012/final1.csv', index_col=0)"
     ]
    },
    {
     "cell_type": "code",
     "collapsed": false,
     "input": [
      "dsc = pd.read_csv('data2012/caracteristiques.csv', index_col=0)"
     ],
     "language": "python",
     "metadata": {},
     "outputs": [],
     "prompt_number": 3
    },
    {
     "cell_type": "raw",
     "metadata": {},
     "source": [
      "N = len(dsc)"
     ]
    },
    {
     "cell_type": "raw",
     "metadata": {},
     "source": [
      "dsv = pd.read_csv('data2012/vehicules.csv', index_col=0)"
     ]
    },
    {
     "cell_type": "raw",
     "metadata": {},
     "source": [
      "dsu = pd.read_csv('data2012/usagers.csv', index_col=0)"
     ]
    },
    {
     "cell_type": "raw",
     "metadata": {},
     "source": [
      "dsl = pd.read_csv('data2012/lieux.csv', index_col=0)"
     ]
    },
    {
     "cell_type": "raw",
     "metadata": {},
     "source": [
      "ds.columns"
     ]
    },
    {
     "cell_type": "code",
     "collapsed": false,
     "input": [
      "ds_loc = dsc[['adr', 'gps', 'lat', 'long', 'dep', 'com']]"
     ],
     "language": "python",
     "metadata": {},
     "outputs": [],
     "prompt_number": 4
    },
    {
     "cell_type": "code",
     "collapsed": false,
     "input": [],
     "language": "python",
     "metadata": {},
     "outputs": [],
     "prompt_number": 4
    },
    {
     "cell_type": "code",
     "collapsed": false,
     "input": [
      "ds_loc.to_csv('data2012/for_geoloc_new.csv', encoding='utf8')"
     ],
     "language": "python",
     "metadata": {},
     "outputs": [],
     "prompt_number": 5
    },
    {
     "cell_type": "code",
     "collapsed": false,
     "input": [],
     "language": "python",
     "metadata": {},
     "outputs": []
    }
   ],
   "metadata": {}
  }
 ]
}