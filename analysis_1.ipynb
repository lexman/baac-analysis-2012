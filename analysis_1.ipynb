{
 "metadata": {
  "name": "",
  "signature": "sha256:46407c9e9b39c77a401ed64b26fcd2e389abbd8515e116fc7ab9f5262165e42d"
 },
 "nbformat": 3,
 "nbformat_minor": 0,
 "worksheets": [
  {
   "cells": [
    {
     "cell_type": "code",
     "collapsed": false,
     "input": [
      "import functools, operator, itertools\n",
      "import locale\n",
      "import sys\n",
      "import pandas as pd\n",
      "import numpy as np\n",
      "import matplotlib as mpl\n",
      "import matplotlib.pyplot as plt\n",
      "import prettyplotlib as ppl\n",
      "%matplotlib inline"
     ],
     "language": "python",
     "metadata": {},
     "outputs": [],
     "prompt_number": 245
    },
    {
     "cell_type": "code",
     "collapsed": false,
     "input": [
      "pd.set_option('display.max_columns', None)"
     ],
     "language": "python",
     "metadata": {},
     "outputs": [],
     "prompt_number": 2
    },
    {
     "cell_type": "markdown",
     "metadata": {},
     "source": [
      "## Load databases"
     ]
    },
    {
     "cell_type": "code",
     "collapsed": false,
     "input": [
      "ds = pd.read_csv('data2012/final2.csv', index_col=0)"
     ],
     "language": "python",
     "metadata": {},
     "outputs": [],
     "prompt_number": 215
    },
    {
     "cell_type": "code",
     "collapsed": false,
     "input": [
      "dsc = pd.read_csv('data2012/caracteristiques.csv', index_col=0)"
     ],
     "language": "python",
     "metadata": {},
     "outputs": [],
     "prompt_number": 4
    },
    {
     "cell_type": "code",
     "collapsed": false,
     "input": [
      "N = len(dsc)"
     ],
     "language": "python",
     "metadata": {},
     "outputs": [],
     "prompt_number": 5
    },
    {
     "cell_type": "code",
     "collapsed": false,
     "input": [
      "dsv = pd.read_csv('data2012/vehicules.csv', index_col=0)"
     ],
     "language": "python",
     "metadata": {},
     "outputs": [],
     "prompt_number": 6
    },
    {
     "cell_type": "code",
     "collapsed": false,
     "input": [
      "dsu = pd.read_csv('data2012/usagers.csv', index_col=0)"
     ],
     "language": "python",
     "metadata": {},
     "outputs": [],
     "prompt_number": 7
    },
    {
     "cell_type": "code",
     "collapsed": false,
     "input": [
      "dsl = pd.read_csv('data2012/lieux.csv', index_col=0)"
     ],
     "language": "python",
     "metadata": {},
     "outputs": [],
     "prompt_number": 8
    },
    {
     "cell_type": "markdown",
     "metadata": {},
     "source": [
      "## Look at GPS coordinates"
     ]
    },
    {
     "cell_type": "code",
     "collapsed": false,
     "input": [
      "((np.abs(ds.long)>0) & (np.abs(ds.lat)>0)).sum(), N"
     ],
     "language": "python",
     "metadata": {},
     "outputs": [
      {
       "metadata": {},
       "output_type": "pyout",
       "prompt_number": 18,
       "text": [
        "(21559, 62250)"
       ]
      }
     ],
     "prompt_number": 18
    },
    {
     "cell_type": "markdown",
     "metadata": {},
     "source": [
      "## Misc"
     ]
    },
    {
     "cell_type": "code",
     "collapsed": false,
     "input": [
      "dsu['age'] = 2012-dsu['an_nais']"
     ],
     "language": "python",
     "metadata": {},
     "outputs": [],
     "prompt_number": 202
    },
    {
     "cell_type": "markdown",
     "metadata": {},
     "source": [
      "## Questions"
     ]
    },
    {
     "cell_type": "markdown",
     "metadata": {},
     "source": [
      "* Ceintur\u00e9/non ceintur\u00e9: quel impact sur la gravit\u00e9 d'un accident?\n",
      "* Profil des tu\u00e9s sur la route? (clustering)\n",
      "* Circonstances de l'accident qui ont le plus d'influence sur la gravit\u00e9 (feature selection): int, atm, col, lum, catr, circ, catv (poids lourd/voiture/2 roues), (enlever les pi\u00e9tons)\n",
      "* Manoeuvres dangereuses (parmi les accidents graves)\n",
      "* Pi\u00e9tons: circonstances?\n",
      "* Deux roues: influence sur la gravit\u00e9? casque, pluie, etc."
     ]
    },
    {
     "cell_type": "markdown",
     "metadata": {},
     "source": [
      "## Ceinture"
     ]
    },
    {
     "cell_type": "code",
     "collapsed": false,
     "input": [
      "dsu.columns"
     ],
     "language": "python",
     "metadata": {},
     "outputs": [
      {
       "metadata": {},
       "output_type": "pyout",
       "prompt_number": 22,
       "text": [
        "Index([u'letco', u'place', u'catu', u'grav', u'sexe', u'trajet', u'secu', u'locp', u'actp', u'etatp', u'an_nais'], dtype='object')"
       ]
      }
     ],
     "prompt_number": 22
    },
    {
     "cell_type": "code",
     "collapsed": false,
     "input": [
      "ds_ceinture = dsu[['secu', 'catu', 'place', 'grav']]"
     ],
     "language": "python",
     "metadata": {},
     "outputs": [],
     "prompt_number": 74
    },
    {
     "cell_type": "code",
     "collapsed": false,
     "input": [
      "# 0 = indemne ou bless\u00e9 l\u00e9ger, 1 = bless\u00e9 grave ou tu\u00e9\n",
      "ds_ceinture['gravite'] = ds_ceinture['grav'].isin([2,3])"
     ],
     "language": "python",
     "metadata": {},
     "outputs": [],
     "prompt_number": 312
    },
    {
     "cell_type": "code",
     "collapsed": false,
     "input": [
      "ds_ceinture = ds_ceinture.dropna()"
     ],
     "language": "python",
     "metadata": {},
     "outputs": [],
     "prompt_number": 313
    },
    {
     "cell_type": "code",
     "collapsed": false,
     "input": [
      "ceinture_oui = ds_ceinture['secu'] == 11\n",
      "ceinture_non = ds_ceinture['secu'] == 12"
     ],
     "language": "python",
     "metadata": {},
     "outputs": [],
     "prompt_number": 314
    },
    {
     "cell_type": "code",
     "collapsed": false,
     "input": [
      "ds_ceinture['ceinture'] = np.zeros(len(ds_ceinture), dtype=np.int8)\n",
      "ds_ceinture['ceinture'][ceinture_oui] = 1\n",
      "ds_ceinture['ceinture'][ceinture_non] = 0"
     ],
     "language": "python",
     "metadata": {},
     "outputs": [],
     "prompt_number": 315
    },
    {
     "cell_type": "code",
     "collapsed": false,
     "input": [
      "ds_ceinture = ds_ceinture[ceinture_oui | ceinture_non]"
     ],
     "language": "python",
     "metadata": {},
     "outputs": [],
     "prompt_number": 316
    },
    {
     "cell_type": "code",
     "collapsed": false,
     "input": [
      "grav_non_ceintures = ds_ceinture['gravite'][ds_ceinture['ceinture'] == 0]\n",
      "grav_ceintures = ds_ceinture['gravite'][ds_ceinture['ceinture'] == 1]"
     ],
     "language": "python",
     "metadata": {},
     "outputs": [],
     "prompt_number": 317
    },
    {
     "cell_type": "code",
     "collapsed": false,
     "input": [
      "n = len(ds_ceinture)"
     ],
     "language": "python",
     "metadata": {},
     "outputs": [],
     "prompt_number": 318
    },
    {
     "cell_type": "code",
     "collapsed": false,
     "input": [
      "c0, c1 = np.bincount(grav_ceintures.values)/float(len(grav_ceintures))\n",
      "nc0, nc1 = np.bincount(grav_non_ceintures.values)/float(len(grav_non_ceintures))"
     ],
     "language": "python",
     "metadata": {},
     "outputs": [],
     "prompt_number": 319
    },
    {
     "cell_type": "code",
     "collapsed": false,
     "input": [
      "plt.figure(figsize=(6,4));\n",
      "ax = plt.subplot(111);\n",
      "b = ppl.bar([0, 1], [c1, nc1]);\n",
      "#b[0].set_color('#088F08');\n",
      "#b[1].set_color('#B30B0B');\n",
      "for tick in ax.yaxis.get_major_ticks():\n",
      "    tick.label.set_fontname('arial') \n",
      "    tick.label.set_fontsize(16) \n",
      "ax.set_xticks([.4, 1.4]);\n",
      "ax.set_yticks(np.linspace(0., .6, 7));\n",
      "ax.set_xticklabels(['avec', 'sans'], \n",
      "                   fontsize=22, fontname='arial');\n",
      "ax.set_xlabel('ceinture', fontsize=20, fontname='arial');\n",
      "ax.set_xlim([-.2, 2]);\n",
      "ax.set_ylabel(u'probabilit\u00e9 de blessures\\ngraves ou mortelles', \n",
      "              fontsize=20, fontname='arial');\n",
      "plt.tight_layout();\n",
      "plt.savefig('fig_ceinture.png', dpi=150);"
     ],
     "language": "python",
     "metadata": {},
     "outputs": [
      {
       "metadata": {},
       "output_type": "display_data",
       "png": "[encoded data removed]",
       "text": [
        "<matplotlib.figure.Figure at 0x1102d748>"
       ]
      }
     ],
     "prompt_number": 324
    },
    {
     "cell_type": "markdown",
     "metadata": {},
     "source": [
      "## Profils des tu\u00e9s sur la route"
     ]
    },
    {
     "cell_type": "code",
     "collapsed": false,
     "input": [
      "ds2 = ds.merge(dsu, how='left', left_index=True, right_index=True)\n",
      "ds2 = ds2.merge(dsv, how='left', left_index=True, right_index=True)"
     ],
     "language": "python",
     "metadata": {},
     "outputs": [],
     "prompt_number": 281
    },
    {
     "cell_type": "code",
     "collapsed": false,
     "input": [
      "ds2['gravite'] = ds2['grav'].isin([2,3])"
     ],
     "language": "python",
     "metadata": {},
     "outputs": [],
     "prompt_number": 297
    },
    {
     "cell_type": "code",
     "collapsed": false,
     "input": [
      "tues = (ds2['grav']==2) & (ds2['catu']<=2)"
     ],
     "language": "python",
     "metadata": {},
     "outputs": [],
     "prompt_number": 285
    },
    {
     "cell_type": "code",
     "collapsed": false,
     "input": [
      "ds_tues = ds2[tues][['catu', 'sexe', 'trajet', 'secu', 'age', 'mois', 'dayofweek',\n",
      "                   'lum', 'col', 'catr', 'catv', 'manv', 'hrmn']]\n",
      "ds_tues.head(2)"
     ],
     "language": "python",
     "metadata": {},
     "outputs": [
      {
       "html": [
        "<div style=\"max-height:1000px;max-width:1500px;overflow:auto;\">\n",
        "<table border=\"1\" class=\"dataframe\">\n",
        "  <thead>\n",
        "    <tr style=\"text-align: right;\">\n",
        "      <th></th>\n",
        "      <th>catu</th>\n",
        "      <th>sexe</th>\n",
        "      <th>trajet</th>\n",
        "      <th>secu</th>\n",
        "      <th>age</th>\n",
        "      <th>mois</th>\n",
        "      <th>dayofweek</th>\n",
        "      <th>lum</th>\n",
        "      <th>col</th>\n",
        "      <th>catr</th>\n",
        "      <th>catv</th>\n",
        "      <th>manv</th>\n",
        "      <th>hrmn</th>\n",
        "    </tr>\n",
        "    <tr>\n",
        "      <th>Num_Acc</th>\n",
        "      <th></th>\n",
        "      <th></th>\n",
        "      <th></th>\n",
        "      <th></th>\n",
        "      <th></th>\n",
        "      <th></th>\n",
        "      <th></th>\n",
        "      <th></th>\n",
        "      <th></th>\n",
        "      <th></th>\n",
        "      <th></th>\n",
        "      <th></th>\n",
        "      <th></th>\n",
        "    </tr>\n",
        "  </thead>\n",
        "  <tbody>\n",
        "    <tr>\n",
        "      <th>201200000010</th>\n",
        "      <td> 1</td>\n",
        "      <td> 1</td>\n",
        "      <td> 5</td>\n",
        "      <td> 11</td>\n",
        "      <td> 25</td>\n",
        "      <td>  9</td>\n",
        "      <td> 4</td>\n",
        "      <td> 5</td>\n",
        "      <td> 6</td>\n",
        "      <td> 3</td>\n",
        "      <td>  7</td>\n",
        "      <td> 14</td>\n",
        "      <td>  445</td>\n",
        "    </tr>\n",
        "    <tr>\n",
        "      <th>201200000015</th>\n",
        "      <td> 1</td>\n",
        "      <td> 1</td>\n",
        "      <td> 5</td>\n",
        "      <td> 21</td>\n",
        "      <td> 21</td>\n",
        "      <td> 12</td>\n",
        "      <td> 5</td>\n",
        "      <td> 1</td>\n",
        "      <td> 6</td>\n",
        "      <td> 2</td>\n",
        "      <td> 33</td>\n",
        "      <td>  1</td>\n",
        "      <td> 1630</td>\n",
        "    </tr>\n",
        "  </tbody>\n",
        "</table>\n",
        "</div>"
       ],
       "metadata": {},
       "output_type": "pyout",
       "prompt_number": 286,
       "text": [
        "              catu  sexe  trajet  secu  age  mois  dayofweek  lum  col  catr  \\\n",
        "Num_Acc                                                                        \n",
        "201200000010     1     1       5    11   25     9          4    5    6     3   \n",
        "201200000015     1     1       5    21   21    12          5    1    6     2   \n",
        "\n",
        "              catv  manv  hrmn  \n",
        "Num_Acc                         \n",
        "201200000010     7    14   445  \n",
        "201200000015    33     1  1630  "
       ]
      }
     ],
     "prompt_number": 286
    },
    {
     "cell_type": "markdown",
     "metadata": {},
     "source": [
      "Day time: 0=nuit, 1=jour, 2=soir"
     ]
    },
    {
     "cell_type": "raw",
     "metadata": {},
     "source": [
      "ds_tues['daytime'] = np.zeros(len(ds_tues), dtype=np.int8)\n",
      "ds_tues['daytime'][800 <= ds_tues['hrmn'] < 1800] = 1\n",
      "ds_tues['daytime'][1800 <= ds_tues['hrmn'] < 2200] = 2\n",
      "ds_tues.head(2)"
     ]
    },
    {
     "cell_type": "markdown",
     "metadata": {},
     "source": [
      "### \u00c2ge"
     ]
    },
    {
     "cell_type": "code",
     "collapsed": false,
     "input": [
      "plt.figure(figsize=(6,4));\n",
      "ax = plt.subplot(111);\n",
      "hist_age_m = np.bincount(ds_tues['age'][ds_tues['sexe']==1].values.astype(np.int32), minlength=100);\n",
      "hist_age_f = np.bincount(ds_tues['age'][ds_tues['sexe']==2].values.astype(np.int32), minlength=100);\n",
      "plt.bar(range(100), hist_age_f, lw=0, width=1., \n",
      "        color='#E45C95');\n",
      "plt.bar(range(100), hist_age_m, bottom=hist_age_f, \n",
      "        lw=0, width=1., color='#4756DE');\n",
      "for tick in itertools.chain( ax.xaxis.get_major_ticks(), ax.yaxis.get_major_ticks()):\n",
      "    tick.label.set_fontname('arial') \n",
      "    tick.label.set_fontsize(16) \n",
      "ax.set_xlabel(u'\u00e2ge', fontsize=20, fontname='arial');\n",
      "ax.set_ylabel(u'nombre de tu\u00e9s', fontsize=20, fontname='arial');\n",
      "plt.tight_layout();\n",
      "plt.savefig('fig_age.png', dpi=150);"
     ],
     "language": "python",
     "metadata": {},
     "outputs": [
      {
       "metadata": {},
       "output_type": "display_data",
       "png": "[encoded data removed]",
       "text": [
        "<matplotlib.figure.Figure at 0xcc0ab38>"
       ]
      }
     ],
     "prompt_number": 287
    },
    {
     "cell_type": "markdown",
     "metadata": {},
     "source": [
      "### Voitures et deux roues"
     ]
    },
    {
     "cell_type": "code",
     "collapsed": false,
     "input": [
      "cat_voitures = [7,]\n",
      "cat_deuxroues = [2,30,31,32,33,34]"
     ],
     "language": "python",
     "metadata": {},
     "outputs": [],
     "prompt_number": 325
    },
    {
     "cell_type": "code",
     "collapsed": false,
     "input": [
      "voiture = ds2['catv'].isin(cat_voitures)\n",
      "deuxroues = ds2['catv'].isin(cat_deuxroues)"
     ],
     "language": "python",
     "metadata": {},
     "outputs": [],
     "prompt_number": 326
    },
    {
     "cell_type": "code",
     "collapsed": false,
     "input": [
      "v0, v1 = ds2[voiture].groupby('gravite').count()['an']"
     ],
     "language": "python",
     "metadata": {},
     "outputs": [],
     "prompt_number": 327
    },
    {
     "cell_type": "code",
     "collapsed": false,
     "input": [
      "dr0, dr1 = ds2[deuxroues].groupby('gravite').count()['an']"
     ],
     "language": "python",
     "metadata": {},
     "outputs": [],
     "prompt_number": 328
    },
    {
     "cell_type": "code",
     "collapsed": false,
     "input": [
      "v0, v1, dr0, dr1"
     ],
     "language": "python",
     "metadata": {},
     "outputs": [
      {
       "metadata": {},
       "output_type": "pyout",
       "prompt_number": 329,
       "text": [
        "(139265, 33739, 38996, 11430)"
       ]
      }
     ],
     "prompt_number": 329
    },
    {
     "cell_type": "code",
     "collapsed": false,
     "input": [
      "plt.figure(figsize=(6,4));\n",
      "ax = plt.subplot(111);\n",
      "b = ppl.bar([0, 1], [v1/float(v0+v1), dr1/float(dr0+dr1)]);\n",
      "#b[0].set_color('#088F08');\n",
      "#b[1].set_color('#B30B0B');\n",
      "for tick in ax.yaxis.get_major_ticks():\n",
      "    tick.label.set_fontname('arial') \n",
      "    tick.label.set_fontsize(16) \n",
      "ax.set_xticks([.4, 1.4]);\n",
      "#ax.set_yticks([0, .1, .2, .3]);\n",
      "ax.set_xticklabels(['voiture', 'deux roues'], \n",
      "                   fontsize=22, fontname='arial');\n",
      "#ax.set_xlabel('ceinture', fontsize=20, fontname='arial');\n",
      "ax.set_xlim([-.2, 2]);\n",
      "ax.set_ylabel(u'probabilit\u00e9 de blessures\\ngraves ou mortelles', \n",
      "              fontsize=20, fontname='arial');\n",
      "plt.tight_layout();\n",
      "plt.savefig('fig_deuxroues.png', dpi=150);"
     ],
     "language": "python",
     "metadata": {},
     "outputs": [
      {
       "metadata": {},
       "output_type": "display_data",
       "png": "[encoded data removed]",
       "text": [
        "<matplotlib.figure.Figure at 0xd386c88>"
       ]
      }
     ],
     "prompt_number": 348
    },
    {
     "cell_type": "markdown",
     "metadata": {},
     "source": [
      "## Jour de la semaine"
     ]
    },
    {
     "cell_type": "code",
     "collapsed": false,
     "input": [
      "gravweek = ds2[ds2['gravite']==1].groupby('dayofweek').count()['an']"
     ],
     "language": "python",
     "metadata": {},
     "outputs": [],
     "prompt_number": 335
    },
    {
     "cell_type": "code",
     "collapsed": false,
     "input": [
      "plt.figure(figsize=(6,4));\n",
      "ax = plt.subplot(111);\n",
      "b = ppl.bar(range(7), gravweek);\n",
      "for tick in ax.yaxis.get_major_ticks():\n",
      "    tick.label.set_fontname('arial') \n",
      "    tick.label.set_fontsize(16)\n",
      "ax.set_xticklabels(['lundi', 'mardi', 'mercredi', 'jeudi', 'vendredi', 'samedi', 'dimanche'], \n",
      "                   fontsize=22, fontname='arial');\n",
      "ax.set_ylabel(u'probabilit\u00e9 de blessures\\ngraves ou mortelles', \n",
      "              fontsize=20, fontname='arial');\n",
      "plt.tight_layout();\n",
      "plt.savefig('fig_semaine.png', dpi=150);"
     ],
     "language": "python",
     "metadata": {},
     "outputs": [
      {
       "metadata": {},
       "output_type": "display_data",
       "png": "[encoded data removed]",
       "text": [
        "<matplotlib.figure.Figure at 0x3beba470>"
       ]
      }
     ],
     "prompt_number": 349
    }
   ],
   "metadata": {}
  }
 ]
}