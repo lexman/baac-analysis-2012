{
 "metadata": {
  "name": "",
  "signature": "sha256:b27941282f05f64eccc7e2cceb0ca67b510f075ad0e618e6d2915d5f44b47c94"
 },
 "nbformat": 3,
 "nbformat_minor": 0,
 "worksheets": [
  {
   "cells": [
    {
     "cell_type": "code",
     "collapsed": false,
     "input": [
      "import functools\n",
      "import locale\n",
      "import sys\n",
      "import pandas as pd\n",
      "import numpy as np\n",
      "import matplotlib.pyplot as plt\n",
      "%matplotlib inline"
     ],
     "language": "python",
     "metadata": {},
     "outputs": [],
     "prompt_number": 9
    },
    {
     "cell_type": "code",
     "collapsed": false,
     "input": [
      "pd.set_option('display.max_columns', None)"
     ],
     "language": "python",
     "metadata": {},
     "outputs": [],
     "prompt_number": 10
    },
    {
     "cell_type": "code",
     "collapsed": false,
     "input": [
      "ds = pd.read_csv('data2012/final2.csv', index_col=0)"
     ],
     "language": "python",
     "metadata": {},
     "outputs": [],
     "prompt_number": 11
    },
    {
     "cell_type": "code",
     "collapsed": false,
     "input": [
      "ok = (np.abs(ds.lat)>0) & (np.abs(ds.long)>0)\n",
      "todo = ~ok\n",
      "np.sum(ok), len(ds)"
     ],
     "language": "python",
     "metadata": {},
     "outputs": [
      {
       "metadata": {},
       "output_type": "pyout",
       "prompt_number": 12,
       "text": [
        "(21559, 62250)"
       ]
      }
     ],
     "prompt_number": 12
    },
    {
     "cell_type": "markdown",
     "metadata": {},
     "source": [
      "TODO: mettre le fichier de brice ici"
     ]
    },
    {
     "cell_type": "code",
     "collapsed": false,
     "input": [
      "geoloc = pd.read_csv('data2012/for_geoloc_new.csv', index_col=0)"
     ],
     "language": "python",
     "metadata": {},
     "outputs": [],
     "prompt_number": 13
    },
    {
     "cell_type": "code",
     "collapsed": false,
     "input": [
      "ds2 = geoloc[['geocodtype', 'nlat', 'nlng']]"
     ],
     "language": "python",
     "metadata": {},
     "outputs": [],
     "prompt_number": 14
    },
    {
     "cell_type": "code",
     "collapsed": false,
     "input": [
      "ds2.tail(2)"
     ],
     "language": "python",
     "metadata": {},
     "outputs": [
      {
       "html": [
        "<div style=\"max-height:1000px;max-width:1500px;overflow:auto;\">\n",
        "<table border=\"1\" class=\"dataframe\">\n",
        "  <thead>\n",
        "    <tr style=\"text-align: right;\">\n",
        "      <th></th>\n",
        "      <th>geocodtype</th>\n",
        "      <th>nlat</th>\n",
        "      <th>nlng</th>\n",
        "    </tr>\n",
        "    <tr>\n",
        "      <th>num_acc</th>\n",
        "      <th></th>\n",
        "      <th></th>\n",
        "      <th></th>\n",
        "    </tr>\n",
        "  </thead>\n",
        "  <tbody>\n",
        "    <tr>\n",
        "      <th>201200028902</th>\n",
        "      <td>     BANO</td>\n",
        "      <td> 47.23673</td>\n",
        "      <td>-1.556722</td>\n",
        "    </tr>\n",
        "    <tr>\n",
        "      <th>201200003327</th>\n",
        "      <td> original</td>\n",
        "      <td> 45.67321</td>\n",
        "      <td> 0.246610</td>\n",
        "    </tr>\n",
        "  </tbody>\n",
        "</table>\n",
        "</div>"
       ],
       "metadata": {},
       "output_type": "pyout",
       "prompt_number": 15,
       "text": [
        "             geocodtype      nlat      nlng\n",
        "num_acc                                    \n",
        "201200028902       BANO  47.23673 -1.556722\n",
        "201200003327   original  45.67321  0.246610"
       ]
      }
     ],
     "prompt_number": 15
    },
    {
     "cell_type": "code",
     "collapsed": false,
     "input": [
      "np.sum(todo)"
     ],
     "language": "python",
     "metadata": {},
     "outputs": [
      {
       "metadata": {},
       "output_type": "pyout",
       "prompt_number": 16,
       "text": [
        "40691"
       ]
      }
     ],
     "prompt_number": 16
    },
    {
     "cell_type": "code",
     "collapsed": false,
     "input": [
      "ds3 = ds2.ix[ds.index]"
     ],
     "language": "python",
     "metadata": {},
     "outputs": [],
     "prompt_number": 17
    },
    {
     "cell_type": "code",
     "collapsed": false,
     "input": [
      "todo.sum()"
     ],
     "language": "python",
     "metadata": {},
     "outputs": [
      {
       "metadata": {},
       "output_type": "pyout",
       "prompt_number": 18,
       "text": [
        "40691"
       ]
      }
     ],
     "prompt_number": 18
    },
    {
     "cell_type": "code",
     "collapsed": false,
     "input": [
      "ds3.head()"
     ],
     "language": "python",
     "metadata": {},
     "outputs": [
      {
       "html": [
        "<div style=\"max-height:1000px;max-width:1500px;overflow:auto;\">\n",
        "<table border=\"1\" class=\"dataframe\">\n",
        "  <thead>\n",
        "    <tr style=\"text-align: right;\">\n",
        "      <th></th>\n",
        "      <th>geocodtype</th>\n",
        "      <th>nlat</th>\n",
        "      <th>nlng</th>\n",
        "    </tr>\n",
        "    <tr>\n",
        "      <th>Num_Acc</th>\n",
        "      <th></th>\n",
        "      <th></th>\n",
        "      <th></th>\n",
        "    </tr>\n",
        "  </thead>\n",
        "  <tbody>\n",
        "    <tr>\n",
        "      <th>201200000001</th>\n",
        "      <td> centroid</td>\n",
        "      <td> 50.951563</td>\n",
        "      <td> 2.287073</td>\n",
        "    </tr>\n",
        "    <tr>\n",
        "      <th>201200000002</th>\n",
        "      <td> centroid</td>\n",
        "      <td> 50.951563</td>\n",
        "      <td> 2.287073</td>\n",
        "    </tr>\n",
        "    <tr>\n",
        "      <th>201200000003</th>\n",
        "      <td> original</td>\n",
        "      <td> 50.547570</td>\n",
        "      <td> 2.920330</td>\n",
        "    </tr>\n",
        "    <tr>\n",
        "      <th>201200000004</th>\n",
        "      <td> original</td>\n",
        "      <td> 50.533150</td>\n",
        "      <td> 2.802290</td>\n",
        "    </tr>\n",
        "    <tr>\n",
        "      <th>201200000005</th>\n",
        "      <td> original</td>\n",
        "      <td> 50.558550</td>\n",
        "      <td> 2.906420</td>\n",
        "    </tr>\n",
        "  </tbody>\n",
        "</table>\n",
        "</div>"
       ],
       "metadata": {},
       "output_type": "pyout",
       "prompt_number": 19,
       "text": [
        "             geocodtype       nlat      nlng\n",
        "Num_Acc                                     \n",
        "201200000001   centroid  50.951563  2.287073\n",
        "201200000002   centroid  50.951563  2.287073\n",
        "201200000003   original  50.547570  2.920330\n",
        "201200000004   original  50.533150  2.802290\n",
        "201200000005   original  50.558550  2.906420"
       ]
      }
     ],
     "prompt_number": 19
    },
    {
     "cell_type": "code",
     "collapsed": false,
     "input": [
      "len(ds3)"
     ],
     "language": "python",
     "metadata": {},
     "outputs": [
      {
       "metadata": {},
       "output_type": "pyout",
       "prompt_number": 20,
       "text": [
        "62250"
       ]
      }
     ],
     "prompt_number": 20
    },
    {
     "cell_type": "code",
     "collapsed": false,
     "input": [
      "ds3[todo].head()"
     ],
     "language": "python",
     "metadata": {},
     "outputs": [
      {
       "html": [
        "<div style=\"max-height:1000px;max-width:1500px;overflow:auto;\">\n",
        "<table border=\"1\" class=\"dataframe\">\n",
        "  <thead>\n",
        "    <tr style=\"text-align: right;\">\n",
        "      <th></th>\n",
        "      <th>geocodtype</th>\n",
        "      <th>nlat</th>\n",
        "      <th>nlng</th>\n",
        "    </tr>\n",
        "    <tr>\n",
        "      <th>Num_Acc</th>\n",
        "      <th></th>\n",
        "      <th></th>\n",
        "      <th></th>\n",
        "    </tr>\n",
        "  </thead>\n",
        "  <tbody>\n",
        "    <tr>\n",
        "      <th>201200000182</th>\n",
        "      <td> centroid</td>\n",
        "      <td> 50.764989</td>\n",
        "      <td> 1.642037</td>\n",
        "    </tr>\n",
        "    <tr>\n",
        "      <th>201200000183</th>\n",
        "      <td> centroid</td>\n",
        "      <td> 50.682296</td>\n",
        "      <td> 1.656344</td>\n",
        "    </tr>\n",
        "    <tr>\n",
        "      <th>201200000185</th>\n",
        "      <td> centroid</td>\n",
        "      <td> 50.893168</td>\n",
        "      <td> 1.771074</td>\n",
        "    </tr>\n",
        "    <tr>\n",
        "      <th>201200000186</th>\n",
        "      <td> centroid</td>\n",
        "      <td> 50.617133</td>\n",
        "      <td> 1.617293</td>\n",
        "    </tr>\n",
        "    <tr>\n",
        "      <th>201200000187</th>\n",
        "      <td> centroid</td>\n",
        "      <td> 50.118319</td>\n",
        "      <td> 2.932132</td>\n",
        "    </tr>\n",
        "  </tbody>\n",
        "</table>\n",
        "</div>"
       ],
       "metadata": {},
       "output_type": "pyout",
       "prompt_number": 21,
       "text": [
        "             geocodtype       nlat      nlng\n",
        "Num_Acc                                     \n",
        "201200000182   centroid  50.764989  1.642037\n",
        "201200000183   centroid  50.682296  1.656344\n",
        "201200000185   centroid  50.893168  1.771074\n",
        "201200000186   centroid  50.617133  1.617293\n",
        "201200000187   centroid  50.118319  2.932132"
       ]
      }
     ],
     "prompt_number": 21
    },
    {
     "cell_type": "code",
     "collapsed": false,
     "input": [
      "np.sum((np.abs(ds3[todo].nlat)>0) & (np.abs(ds3[todo].nlng)>0))"
     ],
     "language": "python",
     "metadata": {},
     "outputs": [
      {
       "metadata": {},
       "output_type": "pyout",
       "prompt_number": 22,
       "text": [
        "27097"
       ]
      }
     ],
     "prompt_number": 22
    },
    {
     "cell_type": "code",
     "collapsed": false,
     "input": [
      "np.sum((np.abs(ds[todo].lat)>0) & (np.abs(ds[todo].long)>0))"
     ],
     "language": "python",
     "metadata": {},
     "outputs": [
      {
       "metadata": {},
       "output_type": "pyout",
       "prompt_number": 23,
       "text": [
        "0"
       ]
      }
     ],
     "prompt_number": 23
    },
    {
     "cell_type": "code",
     "collapsed": false,
     "input": [
      "len(todo), todo.sum()"
     ],
     "language": "python",
     "metadata": {},
     "outputs": [
      {
       "metadata": {},
       "output_type": "pyout",
       "prompt_number": 27,
       "text": [
        "(62250, 40691)"
       ]
      }
     ],
     "prompt_number": 27
    },
    {
     "cell_type": "code",
     "collapsed": false,
     "input": [
      "todo = ((np.abs(ds.lat)>0) & (np.abs(ds.long)>0)) | ((np.abs(ds3.nlat)>0) & (np.abs(ds3.nlng)>0))"
     ],
     "language": "python",
     "metadata": {},
     "outputs": [],
     "prompt_number": 29
    },
    {
     "cell_type": "code",
     "collapsed": false,
     "input": [
      "len(todo), todo.sum()"
     ],
     "language": "python",
     "metadata": {},
     "outputs": [
      {
       "metadata": {},
       "output_type": "pyout",
       "prompt_number": 30,
       "text": [
        "(62250, 27097)"
       ]
      }
     ],
     "prompt_number": 30
    },
    {
     "cell_type": "code",
     "collapsed": false,
     "input": [
      "ds['lat'][todo] = ds3.nlat[todo]"
     ],
     "language": "python",
     "metadata": {},
     "outputs": [],
     "prompt_number": 51
    },
    {
     "cell_type": "code",
     "collapsed": false,
     "input": [
      "ds['long'][todo] = ds3.nlng[todo]"
     ],
     "language": "python",
     "metadata": {},
     "outputs": [],
     "prompt_number": 52
    },
    {
     "cell_type": "code",
     "collapsed": false,
     "input": [
      "np.sum((np.abs(ds[todo].lat)>0) & (np.abs(ds[todo].long)>0))"
     ],
     "language": "python",
     "metadata": {},
     "outputs": [
      {
       "metadata": {},
       "output_type": "pyout",
       "prompt_number": 53,
       "text": [
        "27097"
       ]
      }
     ],
     "prompt_number": 53
    },
    {
     "cell_type": "code",
     "collapsed": false,
     "input": [
      "ds['approx'] = np.zeros(len(ds), dtype=str)"
     ],
     "language": "python",
     "metadata": {},
     "outputs": [],
     "prompt_number": 69
    },
    {
     "cell_type": "code",
     "collapsed": false,
     "input": [
      "ds['approx'][ds3.geocodtype == 'centroid'] = 'Localisation approximative'"
     ],
     "language": "python",
     "metadata": {},
     "outputs": [],
     "prompt_number": 70
    },
    {
     "cell_type": "code",
     "collapsed": false,
     "input": [
      "ds[ds3.geocodtype == 'centroid'].tail()"
     ],
     "language": "python",
     "metadata": {},
     "outputs": [
      {
       "html": [
        "<div style=\"max-height:1000px;max-width:1500px;overflow:auto;\">\n",
        "<table border=\"1\" class=\"dataframe\">\n",
        "  <thead>\n",
        "    <tr style=\"text-align: right;\">\n",
        "      <th></th>\n",
        "      <th>an</th>\n",
        "      <th>mois</th>\n",
        "      <th>jour</th>\n",
        "      <th>hrmn</th>\n",
        "      <th>lum</th>\n",
        "      <th>agg</th>\n",
        "      <th>int</th>\n",
        "      <th>atm</th>\n",
        "      <th>col</th>\n",
        "      <th>com</th>\n",
        "      <th>adr</th>\n",
        "      <th>gps</th>\n",
        "      <th>lat</th>\n",
        "      <th>long</th>\n",
        "      <th>dep</th>\n",
        "      <th>gravite</th>\n",
        "      <th>nbimpliques</th>\n",
        "      <th>age_0</th>\n",
        "      <th>age_1</th>\n",
        "      <th>age_2</th>\n",
        "      <th>age_3</th>\n",
        "      <th>age_4</th>\n",
        "      <th>hommes</th>\n",
        "      <th>femmes</th>\n",
        "      <th>catr</th>\n",
        "      <th>circ</th>\n",
        "      <th>nbv</th>\n",
        "      <th>vosp</th>\n",
        "      <th>prof</th>\n",
        "      <th>plan</th>\n",
        "      <th>lartpc</th>\n",
        "      <th>larrout</th>\n",
        "      <th>surf</th>\n",
        "      <th>infra</th>\n",
        "      <th>situ</th>\n",
        "      <th>env1</th>\n",
        "      <th>dayofweek</th>\n",
        "      <th>postal_code</th>\n",
        "      <th>nom_comm</th>\n",
        "      <th>nom_dept</th>\n",
        "      <th>nom_region</th>\n",
        "      <th>sex</th>\n",
        "      <th>details_usagers</th>\n",
        "      <th>details_vehicules</th>\n",
        "      <th>datefull</th>\n",
        "      <th>atm_text</th>\n",
        "      <th>lum_text</th>\n",
        "      <th>catr_text</th>\n",
        "      <th>int_text</th>\n",
        "      <th>infra_text</th>\n",
        "      <th>col_text</th>\n",
        "      <th>approx</th>\n",
        "    </tr>\n",
        "    <tr>\n",
        "      <th>Num_Acc</th>\n",
        "      <th></th>\n",
        "      <th></th>\n",
        "      <th></th>\n",
        "      <th></th>\n",
        "      <th></th>\n",
        "      <th></th>\n",
        "      <th></th>\n",
        "      <th></th>\n",
        "      <th></th>\n",
        "      <th></th>\n",
        "      <th></th>\n",
        "      <th></th>\n",
        "      <th></th>\n",
        "      <th></th>\n",
        "      <th></th>\n",
        "      <th></th>\n",
        "      <th></th>\n",
        "      <th></th>\n",
        "      <th></th>\n",
        "      <th></th>\n",
        "      <th></th>\n",
        "      <th></th>\n",
        "      <th></th>\n",
        "      <th></th>\n",
        "      <th></th>\n",
        "      <th></th>\n",
        "      <th></th>\n",
        "      <th></th>\n",
        "      <th></th>\n",
        "      <th></th>\n",
        "      <th></th>\n",
        "      <th></th>\n",
        "      <th></th>\n",
        "      <th></th>\n",
        "      <th></th>\n",
        "      <th></th>\n",
        "      <th></th>\n",
        "      <th></th>\n",
        "      <th></th>\n",
        "      <th></th>\n",
        "      <th></th>\n",
        "      <th></th>\n",
        "      <th></th>\n",
        "      <th></th>\n",
        "      <th></th>\n",
        "      <th></th>\n",
        "      <th></th>\n",
        "      <th></th>\n",
        "      <th></th>\n",
        "      <th></th>\n",
        "      <th></th>\n",
        "      <th></th>\n",
        "    </tr>\n",
        "  </thead>\n",
        "  <tbody>\n",
        "    <tr>\n",
        "      <th>201200060433</th>\n",
        "      <td> 12</td>\n",
        "      <td> 12</td>\n",
        "      <td> 23</td>\n",
        "      <td> 1825</td>\n",
        "      <td> 5</td>\n",
        "      <td> 9</td>\n",
        "      <td> 1</td>\n",
        "      <td> 1</td>\n",
        "      <td> 4</td>\n",
        "      <td> 116</td>\n",
        "      <td>         ECHANGEUR MUETTE</td>\n",
        "      <td> NaN</td>\n",
        "      <td> 48.860399</td>\n",
        "      <td> 2.262100</td>\n",
        "      <td> 750</td>\n",
        "      <td> 0</td>\n",
        "      <td> 3</td>\n",
        "      <td> 0</td>\n",
        "      <td> 0</td>\n",
        "      <td> 1</td>\n",
        "      <td> 2</td>\n",
        "      <td> 0</td>\n",
        "      <td> 2</td>\n",
        "      <td> 1</td>\n",
        "      <td> 4</td>\n",
        "      <td> 1</td>\n",
        "      <td> 4</td>\n",
        "      <td> 0</td>\n",
        "      <td> 1</td>\n",
        "      <td> 1</td>\n",
        "      <td> 15</td>\n",
        "      <td> 140</td>\n",
        "      <td> 1</td>\n",
        "      <td> 0</td>\n",
        "      <td> 1</td>\n",
        "      <td> 1</td>\n",
        "      <td> 6</td>\n",
        "      <td> 75016</td>\n",
        "      <td> PARIS-16E-ARRONDISSEMENT</td>\n",
        "      <td> PARIS</td>\n",
        "      <td> ILE-DE-FRANCE</td>\n",
        "      <td> 0</td>\n",
        "      <td> homme, 32 ans, bless\u00e9(e) l\u00e9ger, conducteur, d\u00e9...</td>\n",
        "      <td> moto, entre 2 files&lt;br/&gt;voiture, sans changeme...</td>\n",
        "      <td> dimanche 23/12/2012 18:25</td>\n",
        "      <td> Normale</td>\n",
        "      <td> Nuit avec \u00e9clairage public allum\u00e9</td>\n",
        "      <td> Voie communale</td>\n",
        "      <td> Hors intersection</td>\n",
        "      <td>                 NaN</td>\n",
        "      <td>     collision en cha\u00eene</td>\n",
        "      <td> Localisation approximative</td>\n",
        "    </tr>\n",
        "    <tr>\n",
        "      <th>201200060434</th>\n",
        "      <td> 12</td>\n",
        "      <td> 12</td>\n",
        "      <td> 23</td>\n",
        "      <td> 2300</td>\n",
        "      <td> 5</td>\n",
        "      <td> 9</td>\n",
        "      <td> 1</td>\n",
        "      <td> 1</td>\n",
        "      <td> 6</td>\n",
        "      <td> 112</td>\n",
        "      <td> BOULEVARD PERIPHERIQUE E</td>\n",
        "      <td> NaN</td>\n",
        "      <td> 48.835156</td>\n",
        "      <td> 2.419807</td>\n",
        "      <td> 750</td>\n",
        "      <td> 0</td>\n",
        "      <td> 4</td>\n",
        "      <td> 0</td>\n",
        "      <td> 1</td>\n",
        "      <td> 1</td>\n",
        "      <td> 2</td>\n",
        "      <td> 0</td>\n",
        "      <td> 2</td>\n",
        "      <td> 2</td>\n",
        "      <td> 4</td>\n",
        "      <td> 1</td>\n",
        "      <td> 4</td>\n",
        "      <td> 0</td>\n",
        "      <td> 1</td>\n",
        "      <td> 1</td>\n",
        "      <td> 15</td>\n",
        "      <td> 140</td>\n",
        "      <td> 1</td>\n",
        "      <td> 0</td>\n",
        "      <td> 1</td>\n",
        "      <td> 0</td>\n",
        "      <td> 6</td>\n",
        "      <td> 75012</td>\n",
        "      <td> PARIS-12E-ARRONDISSEMENT</td>\n",
        "      <td> PARIS</td>\n",
        "      <td> ILE-DE-FRANCE</td>\n",
        "      <td> 0</td>\n",
        "      <td> femme, 28 ans, bless\u00e9(e) l\u00e9ger, conductrice ce...</td>\n",
        "      <td> voiture, d\u00e9port\u00e9 \u00e0 gauche&lt;br/&gt;voiture, sans ch...</td>\n",
        "      <td> dimanche 23/12/2012 23:00</td>\n",
        "      <td> Normale</td>\n",
        "      <td> Nuit avec \u00e9clairage public allum\u00e9</td>\n",
        "      <td> Voie communale</td>\n",
        "      <td> Hors intersection</td>\n",
        "      <td>                 NaN</td>\n",
        "      <td>                     NaN</td>\n",
        "      <td> Localisation approximative</td>\n",
        "    </tr>\n",
        "    <tr>\n",
        "      <th>201200060435</th>\n",
        "      <td> 12</td>\n",
        "      <td> 12</td>\n",
        "      <td> 24</td>\n",
        "      <td> 1345</td>\n",
        "      <td> 1</td>\n",
        "      <td> 9</td>\n",
        "      <td> 4</td>\n",
        "      <td> 1</td>\n",
        "      <td> 7</td>\n",
        "      <td> 120</td>\n",
        "      <td>       PORTE DE MONTREUIL</td>\n",
        "      <td> NaN</td>\n",
        "      <td> 48.863187</td>\n",
        "      <td> 2.400820</td>\n",
        "      <td> 750</td>\n",
        "      <td> 1</td>\n",
        "      <td> 1</td>\n",
        "      <td> 0</td>\n",
        "      <td> 0</td>\n",
        "      <td> 0</td>\n",
        "      <td> 1</td>\n",
        "      <td> 0</td>\n",
        "      <td> 1</td>\n",
        "      <td> 0</td>\n",
        "      <td> 4</td>\n",
        "      <td> 1</td>\n",
        "      <td> 4</td>\n",
        "      <td> 0</td>\n",
        "      <td> 2</td>\n",
        "      <td> 1</td>\n",
        "      <td> 15</td>\n",
        "      <td> 140</td>\n",
        "      <td> 1</td>\n",
        "      <td> 0</td>\n",
        "      <td> 1</td>\n",
        "      <td> 0</td>\n",
        "      <td> 0</td>\n",
        "      <td> 75020</td>\n",
        "      <td> PARIS-20E-ARRONDISSEMENT</td>\n",
        "      <td> PARIS</td>\n",
        "      <td> ILE-DE-FRANCE</td>\n",
        "      <td> 1</td>\n",
        "      <td> homme, 24 ans, bless\u00e9(e) hospitalis\u00e9(e), condu...</td>\n",
        "      <td>                moto, sans changement de direction</td>\n",
        "      <td>    lundi 24/12/2012 13:45</td>\n",
        "      <td> Normale</td>\n",
        "      <td>                        Plein jour</td>\n",
        "      <td> Voie communale</td>\n",
        "      <td> Intersection en Y</td>\n",
        "      <td>                 NaN</td>\n",
        "      <td>                     NaN</td>\n",
        "      <td> Localisation approximative</td>\n",
        "    </tr>\n",
        "    <tr>\n",
        "      <th>201200060436</th>\n",
        "      <td> 12</td>\n",
        "      <td> 12</td>\n",
        "      <td> 27</td>\n",
        "      <td>  905</td>\n",
        "      <td> 1</td>\n",
        "      <td> 9</td>\n",
        "      <td> 1</td>\n",
        "      <td> 1</td>\n",
        "      <td> 7</td>\n",
        "      <td> 120</td>\n",
        "      <td>          PORTE DES LILAS</td>\n",
        "      <td> NaN</td>\n",
        "      <td> 48.863187</td>\n",
        "      <td> 2.400820</td>\n",
        "      <td> 750</td>\n",
        "      <td> 0</td>\n",
        "      <td> 1</td>\n",
        "      <td> 0</td>\n",
        "      <td> 0</td>\n",
        "      <td> 0</td>\n",
        "      <td> 1</td>\n",
        "      <td> 0</td>\n",
        "      <td> 1</td>\n",
        "      <td> 0</td>\n",
        "      <td> 4</td>\n",
        "      <td> 1</td>\n",
        "      <td> 4</td>\n",
        "      <td> 0</td>\n",
        "      <td> 1</td>\n",
        "      <td> 1</td>\n",
        "      <td> 15</td>\n",
        "      <td> 140</td>\n",
        "      <td> 2</td>\n",
        "      <td> 1</td>\n",
        "      <td> 1</td>\n",
        "      <td> 0</td>\n",
        "      <td> 3</td>\n",
        "      <td> 75020</td>\n",
        "      <td> PARIS-20E-ARRONDISSEMENT</td>\n",
        "      <td> PARIS</td>\n",
        "      <td> ILE-DE-FRANCE</td>\n",
        "      <td> 1</td>\n",
        "      <td> homme, 22 ans, bless\u00e9(e) l\u00e9ger, conducteur cei...</td>\n",
        "      <td>               voiture, changeant de file \u00e0 gauche</td>\n",
        "      <td>    jeudi 27/12/2012 09:05</td>\n",
        "      <td> Normale</td>\n",
        "      <td>                        Plein jour</td>\n",
        "      <td> Voie communale</td>\n",
        "      <td> Hors intersection</td>\n",
        "      <td> Souterrain - tunnel</td>\n",
        "      <td>                     NaN</td>\n",
        "      <td> Localisation approximative</td>\n",
        "    </tr>\n",
        "    <tr>\n",
        "      <th>201200060437</th>\n",
        "      <td> 12</td>\n",
        "      <td> 12</td>\n",
        "      <td> 27</td>\n",
        "      <td> 1800</td>\n",
        "      <td> 5</td>\n",
        "      <td> 9</td>\n",
        "      <td> 1</td>\n",
        "      <td> 1</td>\n",
        "      <td> 2</td>\n",
        "      <td> 119</td>\n",
        "      <td>          PORTE DES LILAS</td>\n",
        "      <td> NaN</td>\n",
        "      <td> 48.886869</td>\n",
        "      <td> 2.384694</td>\n",
        "      <td> 750</td>\n",
        "      <td> 0</td>\n",
        "      <td> 2</td>\n",
        "      <td> 0</td>\n",
        "      <td> 0</td>\n",
        "      <td> 0</td>\n",
        "      <td> 2</td>\n",
        "      <td> 0</td>\n",
        "      <td> 1</td>\n",
        "      <td> 1</td>\n",
        "      <td> 4</td>\n",
        "      <td> 1</td>\n",
        "      <td> 4</td>\n",
        "      <td> 0</td>\n",
        "      <td> 3</td>\n",
        "      <td> 1</td>\n",
        "      <td> 15</td>\n",
        "      <td> 140</td>\n",
        "      <td> 1</td>\n",
        "      <td> 0</td>\n",
        "      <td> 1</td>\n",
        "      <td> 0</td>\n",
        "      <td> 3</td>\n",
        "      <td> 75019</td>\n",
        "      <td> PARIS-19E-ARRONDISSEMENT</td>\n",
        "      <td> PARIS</td>\n",
        "      <td> ILE-DE-FRANCE</td>\n",
        "      <td> 0</td>\n",
        "      <td> femme, 40 ans, bless\u00e9(e) l\u00e9ger, conductrice ce...</td>\n",
        "      <td> voiture, m\u00eame sens, m\u00eame file&lt;br/&gt;voiture, m\u00eam...</td>\n",
        "      <td>    jeudi 27/12/2012 18:00</td>\n",
        "      <td> Normale</td>\n",
        "      <td> Nuit avec \u00e9clairage public allum\u00e9</td>\n",
        "      <td> Voie communale</td>\n",
        "      <td> Hors intersection</td>\n",
        "      <td>                 NaN</td>\n",
        "      <td> collision par l'arri\u00e8re</td>\n",
        "      <td> Localisation approximative</td>\n",
        "    </tr>\n",
        "  </tbody>\n",
        "</table>\n",
        "</div>"
       ],
       "metadata": {},
       "output_type": "pyout",
       "prompt_number": 73,
       "text": [
        "<class 'pandas.core.frame.DataFrame'>\n",
        "Int64Index: 5 entries, 201200060433 to 201200060437\n",
        "Data columns (total 52 columns):\n",
        "an                   5  non-null values\n",
        "mois                 5  non-null values\n",
        "jour                 5  non-null values\n",
        "hrmn                 5  non-null values\n",
        "lum                  5  non-null values\n",
        "agg                  5  non-null values\n",
        "int                  5  non-null values\n",
        "atm                  5  non-null values\n",
        "col                  5  non-null values\n",
        "com                  5  non-null values\n",
        "adr                  5  non-null values\n",
        "gps                  0  non-null values\n",
        "lat                  5  non-null values\n",
        "long                 5  non-null values\n",
        "dep                  5  non-null values\n",
        "gravite              5  non-null values\n",
        "nbimpliques          5  non-null values\n",
        "age_0                5  non-null values\n",
        "age_1                5  non-null values\n",
        "age_2                5  non-null values\n",
        "age_3                5  non-null values\n",
        "age_4                5  non-null values\n",
        "hommes               5  non-null values\n",
        "femmes               5  non-null values\n",
        "catr                 5  non-null values\n",
        "circ                 5  non-null values\n",
        "nbv                  5  non-null values\n",
        "vosp                 5  non-null values\n",
        "prof                 5  non-null values\n",
        "plan                 5  non-null values\n",
        "lartpc               5  non-null values\n",
        "larrout              5  non-null values\n",
        "surf                 5  non-null values\n",
        "infra                5  non-null values\n",
        "situ                 5  non-null values\n",
        "env1                 5  non-null values\n",
        "dayofweek            5  non-null values\n",
        "postal_code          5  non-null values\n",
        "nom_comm             5  non-null values\n",
        "nom_dept             5  non-null values\n",
        "nom_region           5  non-null values\n",
        "sex                  5  non-null values\n",
        "details_usagers      5  non-null values\n",
        "details_vehicules    5  non-null values\n",
        "datefull             5  non-null values\n",
        "atm_text             5  non-null values\n",
        "lum_text             5  non-null values\n",
        "catr_text            5  non-null values\n",
        "int_text             5  non-null values\n",
        "infra_text           1  non-null values\n",
        "col_text             2  non-null values\n",
        "approx               5  non-null values\n",
        "dtypes: float64(2), int64(34), object(16)"
       ]
      }
     ],
     "prompt_number": 73
    },
    {
     "cell_type": "code",
     "collapsed": false,
     "input": [
      "ds.to_csv('data2012/final_fix.csv', encoding='utf8')"
     ],
     "language": "python",
     "metadata": {},
     "outputs": [],
     "prompt_number": 74
    },
    {
     "cell_type": "code",
     "collapsed": false,
     "input": [],
     "language": "python",
     "metadata": {},
     "outputs": []
    },
    {
     "cell_type": "code",
     "collapsed": false,
     "input": [],
     "language": "python",
     "metadata": {},
     "outputs": []
    },
    {
     "cell_type": "code",
     "collapsed": false,
     "input": [],
     "language": "python",
     "metadata": {},
     "outputs": []
    },
    {
     "cell_type": "code",
     "collapsed": false,
     "input": [],
     "language": "python",
     "metadata": {},
     "outputs": []
    },
    {
     "cell_type": "code",
     "collapsed": false,
     "input": [],
     "language": "python",
     "metadata": {},
     "outputs": []
    },
    {
     "cell_type": "code",
     "collapsed": false,
     "input": [
      "ds1 = pd.read_csv('data2012/final2.csv', index_col=0)\n",
      "ds2 = pd.read_csv('data2012/final_brice.csv', index_col=0)"
     ],
     "language": "python",
     "metadata": {},
     "outputs": [],
     "prompt_number": 3
    },
    {
     "cell_type": "code",
     "collapsed": false,
     "input": [
      "ok = (np.abs(ds1.lat)>0) & (np.abs(ds1.long)>0)\n",
      "np.sum(ok), len(ds1)"
     ],
     "language": "python",
     "metadata": {},
     "outputs": [
      {
       "metadata": {},
       "output_type": "pyout",
       "prompt_number": 6,
       "text": [
        "(21559, 62250)"
       ]
      }
     ],
     "prompt_number": 6
    },
    {
     "cell_type": "code",
     "collapsed": false,
     "input": [
      "ok = (np.abs(ds2.lat)>0) & (np.abs(ds2.long)>0)\n",
      "np.sum(ok), len(ds2)"
     ],
     "language": "python",
     "metadata": {},
     "outputs": [
      {
       "metadata": {},
       "output_type": "pyout",
       "prompt_number": 7,
       "text": [
        "(48656, 62250)"
       ]
      }
     ],
     "prompt_number": 7
    },
    {
     "cell_type": "code",
     "collapsed": false,
     "input": [
      "np.sum(ok)/float(len(ds2))*100"
     ],
     "language": "python",
     "metadata": {},
     "outputs": [
      {
       "metadata": {},
       "output_type": "pyout",
       "prompt_number": 8,
       "text": [
        "78.162248995983944"
       ]
      }
     ],
     "prompt_number": 8
    },
    {
     "cell_type": "code",
     "collapsed": false,
     "input": [
      "ds2.c"
     ],
     "language": "python",
     "metadata": {},
     "outputs": []
    },
    {
     "cell_type": "code",
     "collapsed": false,
     "input": [
      "((np.abs(ds1.lat)>0) & (np.abs(ds1.long)>0)) & (ds2.ge)"
     ],
     "language": "python",
     "metadata": {},
     "outputs": []
    }
   ],
   "metadata": {}
  }
 ]
}