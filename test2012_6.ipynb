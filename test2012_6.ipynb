{
 "metadata": {
  "name": "",
  "signature": "sha256:5aae9ae1776c2b0ed11e52ad7a0a3ce5dddb69458a4ad1b5f4b79f7452aa8337"
 },
 "nbformat": 3,
 "nbformat_minor": 0,
 "worksheets": [
  {
   "cells": [
    {
     "cell_type": "markdown",
     "metadata": {},
     "source": [
      "export only accidents that require geocoding"
     ]
    },
    {
     "cell_type": "code",
     "collapsed": false,
     "input": [
      "import functools\n",
      "import locale\n",
      "import sys\n",
      "import pandas as pd\n",
      "import numpy as np\n",
      "import matplotlib.pyplot as plt\n",
      "%matplotlib inline"
     ],
     "language": "python",
     "metadata": {},
     "outputs": [
      {
       "output_type": "stream",
       "stream": "stderr",
       "text": [
        "P:\\WinPython-64bit-2.7.6.3\\python-2.7.6.amd64\\lib\\site-packages\\pandas\\io\\excel.py:626: UserWarning: Installed openpyxl is not supported at this time. Use >=1.6.1 and <2.0.0.\n",
        "  .format(openpyxl_compat.start_ver, openpyxl_compat.stop_ver))\n"
       ]
      }
     ],
     "prompt_number": 1
    },
    {
     "cell_type": "code",
     "collapsed": false,
     "input": [
      "pd.set_option('display.max_columns', None)"
     ],
     "language": "python",
     "metadata": {},
     "outputs": [],
     "prompt_number": 2
    },
    {
     "cell_type": "markdown",
     "metadata": {},
     "source": [
      "## Load databases"
     ]
    },
    {
     "cell_type": "code",
     "collapsed": false,
     "input": [
      "ds = pd.read_csv('data2012/final2.csv', index_col=0)"
     ],
     "language": "python",
     "metadata": {},
     "outputs": [],
     "prompt_number": 3
    },
    {
     "cell_type": "code",
     "collapsed": false,
     "input": [
      "ok = (np.abs(ds.lat)>0) & (np.abs(ds.long)>0)\n",
      "todo = (~ok) & ds.adr.notnull()"
     ],
     "language": "python",
     "metadata": {},
     "outputs": [],
     "prompt_number": 26
    },
    {
     "cell_type": "code",
     "collapsed": false,
     "input": [
      "todo.sum()"
     ],
     "language": "python",
     "metadata": {},
     "outputs": [
      {
       "metadata": {},
       "output_type": "pyout",
       "prompt_number": 27,
       "text": [
        "35546"
       ]
      }
     ],
     "prompt_number": 27
    },
    {
     "cell_type": "code",
     "collapsed": false,
     "input": [
      "ds[todo].head(1)"
     ],
     "language": "python",
     "metadata": {},
     "outputs": [
      {
       "html": [
        "<div style=\"max-height:1000px;max-width:1500px;overflow:auto;\">\n",
        "<table border=\"1\" class=\"dataframe\">\n",
        "  <thead>\n",
        "    <tr style=\"text-align: right;\">\n",
        "      <th></th>\n",
        "      <th>an</th>\n",
        "      <th>mois</th>\n",
        "      <th>jour</th>\n",
        "      <th>hrmn</th>\n",
        "      <th>lum</th>\n",
        "      <th>agg</th>\n",
        "      <th>int</th>\n",
        "      <th>atm</th>\n",
        "      <th>col</th>\n",
        "      <th>com</th>\n",
        "      <th>adr</th>\n",
        "      <th>gps</th>\n",
        "      <th>lat</th>\n",
        "      <th>long</th>\n",
        "      <th>dep</th>\n",
        "      <th>gravite</th>\n",
        "      <th>nbimpliques</th>\n",
        "      <th>age_0</th>\n",
        "      <th>age_1</th>\n",
        "      <th>age_2</th>\n",
        "      <th>age_3</th>\n",
        "      <th>age_4</th>\n",
        "      <th>hommes</th>\n",
        "      <th>femmes</th>\n",
        "      <th>catr</th>\n",
        "      <th>circ</th>\n",
        "      <th>nbv</th>\n",
        "      <th>vosp</th>\n",
        "      <th>prof</th>\n",
        "      <th>plan</th>\n",
        "      <th>lartpc</th>\n",
        "      <th>larrout</th>\n",
        "      <th>surf</th>\n",
        "      <th>infra</th>\n",
        "      <th>situ</th>\n",
        "      <th>env1</th>\n",
        "      <th>dayofweek</th>\n",
        "      <th>postal_code</th>\n",
        "      <th>nom_comm</th>\n",
        "      <th>nom_dept</th>\n",
        "      <th>nom_region</th>\n",
        "      <th>sex</th>\n",
        "      <th>details_usagers</th>\n",
        "      <th>details_vehicules</th>\n",
        "      <th>datefull</th>\n",
        "      <th>atm_text</th>\n",
        "      <th>lum_text</th>\n",
        "      <th>catr_text</th>\n",
        "      <th>int_text</th>\n",
        "      <th>infra_text</th>\n",
        "      <th>col_text</th>\n",
        "    </tr>\n",
        "    <tr>\n",
        "      <th>Num_Acc</th>\n",
        "      <th></th>\n",
        "      <th></th>\n",
        "      <th></th>\n",
        "      <th></th>\n",
        "      <th></th>\n",
        "      <th></th>\n",
        "      <th></th>\n",
        "      <th></th>\n",
        "      <th></th>\n",
        "      <th></th>\n",
        "      <th></th>\n",
        "      <th></th>\n",
        "      <th></th>\n",
        "      <th></th>\n",
        "      <th></th>\n",
        "      <th></th>\n",
        "      <th></th>\n",
        "      <th></th>\n",
        "      <th></th>\n",
        "      <th></th>\n",
        "      <th></th>\n",
        "      <th></th>\n",
        "      <th></th>\n",
        "      <th></th>\n",
        "      <th></th>\n",
        "      <th></th>\n",
        "      <th></th>\n",
        "      <th></th>\n",
        "      <th></th>\n",
        "      <th></th>\n",
        "      <th></th>\n",
        "      <th></th>\n",
        "      <th></th>\n",
        "      <th></th>\n",
        "      <th></th>\n",
        "      <th></th>\n",
        "      <th></th>\n",
        "      <th></th>\n",
        "      <th></th>\n",
        "      <th></th>\n",
        "      <th></th>\n",
        "      <th></th>\n",
        "      <th></th>\n",
        "      <th></th>\n",
        "      <th></th>\n",
        "      <th></th>\n",
        "      <th></th>\n",
        "      <th></th>\n",
        "      <th></th>\n",
        "      <th></th>\n",
        "      <th></th>\n",
        "    </tr>\n",
        "  </thead>\n",
        "  <tbody>\n",
        "    <tr>\n",
        "      <th>201200000207</th>\n",
        "      <td> 12</td>\n",
        "      <td> 3</td>\n",
        "      <td> 14</td>\n",
        "      <td> 1530</td>\n",
        "      <td> 1</td>\n",
        "      <td> 2</td>\n",
        "      <td> 1</td>\n",
        "      <td> 1</td>\n",
        "      <td> 6</td>\n",
        "      <td> 781</td>\n",
        "      <td> rue de la gare</td>\n",
        "      <td> M</td>\n",
        "      <td> 0</td>\n",
        "      <td> 0</td>\n",
        "      <td> 620</td>\n",
        "      <td> 1</td>\n",
        "      <td> 1</td>\n",
        "      <td> 0</td>\n",
        "      <td> 0</td>\n",
        "      <td> 1</td>\n",
        "      <td> 0</td>\n",
        "      <td> 1</td>\n",
        "      <td> 2</td>\n",
        "      <td> 0</td>\n",
        "      <td> 4</td>\n",
        "      <td> 2</td>\n",
        "      <td> 2</td>\n",
        "      <td> 0</td>\n",
        "      <td> 1</td>\n",
        "      <td> 1</td>\n",
        "      <td> 0</td>\n",
        "      <td> 50</td>\n",
        "      <td> 1</td>\n",
        "      <td> 0</td>\n",
        "      <td> 1</td>\n",
        "      <td> 0</td>\n",
        "      <td> 2</td>\n",
        "      <td> 62860</td>\n",
        "      <td> SAUCHY-LESTREE</td>\n",
        "      <td> PAS-DE-CALAIS</td>\n",
        "      <td> NORD-PAS-DE-CALAIS</td>\n",
        "      <td> 1</td>\n",
        "      <td> homme, 45 ans, indemne, conducteur ceintur\u00e9(e)...</td>\n",
        "      <td> voiture, sans changement de direction</td>\n",
        "      <td> mercredi 14/03/2012 15:30</td>\n",
        "      <td> Normale</td>\n",
        "      <td> Plein jour</td>\n",
        "      <td> Voie communale</td>\n",
        "      <td> Hors intersection</td>\n",
        "      <td> NaN</td>\n",
        "      <td> NaN</td>\n",
        "    </tr>\n",
        "  </tbody>\n",
        "</table>\n",
        "</div>"
       ],
       "metadata": {},
       "output_type": "pyout",
       "prompt_number": 23,
       "text": [
        "              an  mois  jour  hrmn  lum  agg  int  atm  col  com  \\\n",
        "Num_Acc                                                            \n",
        "201200000207  12     3    14  1530    1    2    1    1    6  781   \n",
        "\n",
        "                         adr gps  lat  long  dep  gravite  nbimpliques  age_0  \\\n",
        "Num_Acc                                                                         \n",
        "201200000207  rue de la gare   M    0     0  620        1            1      0   \n",
        "\n",
        "              age_1  age_2  age_3  age_4  hommes  femmes  catr  circ  nbv  \\\n",
        "Num_Acc                                                                     \n",
        "201200000207      0      1      0      1       2       0     4     2    2   \n",
        "\n",
        "              vosp  prof  plan  lartpc  larrout  surf  infra  situ  env1  \\\n",
        "Num_Acc                                                                    \n",
        "201200000207     0     1     1       0       50     1      0     1     0   \n",
        "\n",
        "              dayofweek postal_code        nom_comm       nom_dept  \\\n",
        "Num_Acc                                                              \n",
        "201200000207          2       62860  SAUCHY-LESTREE  PAS-DE-CALAIS   \n",
        "\n",
        "                      nom_region  sex  \\\n",
        "Num_Acc                                 \n",
        "201200000207  NORD-PAS-DE-CALAIS    1   \n",
        "\n",
        "                                                details_usagers  \\\n",
        "Num_Acc                                                           \n",
        "201200000207  homme, 45 ans, indemne, conducteur ceintur\u00e9(e)...   \n",
        "\n",
        "                                  details_vehicules  \\\n",
        "Num_Acc                                               \n",
        "201200000207  voiture, sans changement de direction   \n",
        "\n",
        "                               datefull atm_text    lum_text       catr_text  \\\n",
        "Num_Acc                                                                        \n",
        "201200000207  mercredi 14/03/2012 15:30  Normale  Plein jour  Voie communale   \n",
        "\n",
        "                       int_text infra_text col_text  \n",
        "Num_Acc                                              \n",
        "201200000207  Hors intersection        NaN      NaN  "
       ]
      }
     ],
     "prompt_number": 23
    },
    {
     "cell_type": "code",
     "collapsed": false,
     "input": [
      "ds_togeocode = ds[['adr', 'nom_comm', 'nom_dept', 'postal_code']][todo]\n",
      "ds_togeocode['adr'] = ds_togeocode['adr'].str.lower()\n",
      "ds_togeocode['nom_comm'] = ds_togeocode['nom_comm'].str.lower()\n",
      "ds_togeocode['nom_dept'] = ds_togeocode['nom_dept'].str.lower()"
     ],
     "language": "python",
     "metadata": {},
     "outputs": [],
     "prompt_number": 28
    },
    {
     "cell_type": "raw",
     "metadata": {},
     "source": [
      "ds_togeocode.to_csv('data2012/to_geocode.csv', \n",
      "                    sep=';',\n",
      "                    encoding='utf8')"
     ]
    },
    {
     "cell_type": "raw",
     "metadata": {},
     "source": [
      "ds_togeocode[['adr']].to_csv('data2012/to_geocode_adr.csv', \n",
      "                    sep=';', index=None, header=None,\n",
      "                    encoding='utf8')"
     ]
    },
    {
     "cell_type": "markdown",
     "metadata": {},
     "source": [
      "## Normalizing address"
     ]
    },
    {
     "cell_type": "code",
     "collapsed": false,
     "input": [
      "STOP_WORDS = (\"d' rue boulevard bd avenue av rond point rond-point \"\n",
      "              \"de la le du place d sans des cd chemin pt rues \"\n",
      "              \"l quai bis ter \"\n",
      "              \"rte giratoire pl \"\n",
      "              \"angle face au pr rp \"\n",
      "              \"a b c d e f g h i j k l m n o p q r s t u v w x y z \"\n",
      "              \"rd rn autoroute route snr bis \").split(' ')"
     ],
     "language": "python",
     "metadata": {},
     "outputs": [],
     "prompt_number": 143
    },
    {
     "cell_type": "code",
     "collapsed": false,
     "input": [
      "import re"
     ],
     "language": "python",
     "metadata": {},
     "outputs": [],
     "prompt_number": 144
    },
    {
     "cell_type": "code",
     "collapsed": false,
     "input": [
      "_numfirst = re.compile(r'(^[0-9]+)[\\., \\-]+')\n",
      "_road = re.compile(r'(^[a-z]+[0-9]+)')\n",
      "_saint = re.compile(r'st ([^\\n]+)')"
     ],
     "language": "python",
     "metadata": {},
     "outputs": [],
     "prompt_number": 145
    },
    {
     "cell_type": "code",
     "collapsed": false,
     "input": [
      "def _normalize_address(x):\n",
      "    x = x.strip()\n",
      "    \n",
      "    i = x.find('(')\n",
      "    if i>0:\n",
      "        x = x[:i]\n",
      "        \n",
      "    i = x.find('[')\n",
      "    if i>0:\n",
      "        x = x[:i]\n",
      "          \n",
      "    r = _numfirst.match(x)\n",
      "    if r:\n",
      "        num = r.group(1)\n",
      "        x = x[len(num):]\n",
      "        \n",
      "    r = _road.match(x)\n",
      "    if r:\n",
      "        rd = r.group(1)\n",
      "        x = x[len(rd):]\n",
      "        \n",
      "    x = x.replace(',', '')\n",
      "    x = x.replace('.', '')\n",
      "    x = x.replace('?', 'e')\n",
      "    x = x.replace('-', ' ')\n",
      "    x = x.replace('(', '')\n",
      "    x = x.replace(')', '')\n",
      "    x = x.replace('/', '')\n",
      "    x = x.replace('d\\'', '')\n",
      "    x = x.replace('l\\'', '')\n",
      "    \n",
      "    x = ' '.join(_ for _ in x.split(' ') if _ not in STOP_WORDS)\n",
      "      \n",
      "        \n",
      "    x = re.sub(_saint, r'saint \\1', x)\n",
      "    \n",
      "    x = x.strip()\n",
      "    return x"
     ],
     "language": "python",
     "metadata": {},
     "outputs": [],
     "prompt_number": 148
    },
    {
     "cell_type": "code",
     "collapsed": false,
     "input": [
      "ds_togeocode['adr'].apply(_normalize_address).to_csv('_temp.txt', index=False, header=None)"
     ],
     "language": "python",
     "metadata": {},
     "outputs": [],
     "prompt_number": 149
    },
    {
     "cell_type": "code",
     "collapsed": false,
     "input": [],
     "language": "python",
     "metadata": {},
     "outputs": [],
     "prompt_number": 125
    },
    {
     "cell_type": "code",
     "collapsed": false,
     "input": [],
     "language": "python",
     "metadata": {},
     "outputs": []
    }
   ],
   "metadata": {}
  }
 ]
}