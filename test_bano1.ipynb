{
 "metadata": {
  "name": "",
  "signature": "sha256:74c6d851d81dd3838ac01348ed2b53e95b816c9e0d290a57a50101512162f4b5"
 },
 "nbformat": 3,
 "nbformat_minor": 0,
 "worksheets": [
  {
   "cells": [
    {
     "cell_type": "code",
     "collapsed": false,
     "input": [
      "import functools, operator, itertools, collections\n",
      "import locale\n",
      "import sys\n",
      "import pandas as pd\n",
      "import numpy as np\n",
      "import matplotlib.pyplot as plt\n",
      "%matplotlib inline"
     ],
     "language": "python",
     "metadata": {},
     "outputs": [],
     "prompt_number": 6
    },
    {
     "cell_type": "code",
     "collapsed": false,
     "input": [
      "pd.set_option('display.max_columns', None)"
     ],
     "language": "python",
     "metadata": {},
     "outputs": [],
     "prompt_number": 2
    },
    {
     "cell_type": "code",
     "collapsed": false,
     "input": [
      "insee_gps = {}"
     ],
     "language": "python",
     "metadata": {},
     "outputs": [],
     "prompt_number": 36
    },
    {
     "cell_type": "code",
     "collapsed": false,
     "input": [
      "names = ['id', 'numero', 'voie', 'code_post', 'nom_comm', 'source', 'lat', 'lon']"
     ],
     "language": "python",
     "metadata": {},
     "outputs": [],
     "prompt_number": 37
    },
    {
     "cell_type": "code",
     "collapsed": false,
     "input": [
      "def get_insee_gps(dept):\n",
      "    b = pd.read_csv('bano/bano-{0}.csv'.format(dept), header=None, names=names)\n",
      "    b['insee_com'] = b.id.str.slice(0, 5)\n",
      "    insee_gps[dept] = b.groupby('insee_com')[['lat', 'lon']].mean()\n",
      "    return insee_gps[dept]"
     ],
     "language": "python",
     "metadata": {},
     "outputs": [],
     "prompt_number": 38
    },
    {
     "cell_type": "code",
     "collapsed": false,
     "input": [
      "for d in range(1, 96):\n",
      "    if d == 20:\n",
      "        continue\n",
      "    print d\n",
      "    get_insee_gps('%02d' % d)"
     ],
     "language": "python",
     "metadata": {},
     "outputs": [],
     "prompt_number": 41
    },
    {
     "cell_type": "code",
     "collapsed": false,
     "input": [
      "keys = sorted(insee_gps.keys())"
     ],
     "language": "python",
     "metadata": {},
     "outputs": [],
     "prompt_number": 46
    },
    {
     "cell_type": "code",
     "collapsed": false,
     "input": [
      "DS = pd.concat([insee_gps[k] for k in keys])"
     ],
     "language": "python",
     "metadata": {},
     "outputs": [],
     "prompt_number": 49
    },
    {
     "cell_type": "code",
     "collapsed": false,
     "input": [
      "DS.to_csv('bano/average.csv', encoding='utf8')"
     ],
     "language": "python",
     "metadata": {},
     "outputs": [],
     "prompt_number": 52
    }
   ],
   "metadata": {}
  }
 ]
}