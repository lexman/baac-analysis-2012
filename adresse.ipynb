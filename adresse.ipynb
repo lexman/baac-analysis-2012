{
 "metadata": {
  "name": "",
  "signature": "sha256:d7f13e6747e38802749dfa5eb63daeecc4ce11a7f4aea22bf3a6c24304ad12c4"
 },
 "nbformat": 3,
 "nbformat_minor": 0,
 "worksheets": [
  {
   "cells": [
    {
     "cell_type": "code",
     "collapsed": false,
     "input": [
      "import pandas as pd\n",
      "import numpy as np\n",
      "import matplotlib.pyplot as plt\n",
      "%matplotline inline"
     ],
     "language": "python",
     "metadata": {},
     "outputs": [
      {
       "output_type": "stream",
       "stream": "stderr",
       "text": [
        "ERROR: Line magic function `%matplotline` not found.\n"
       ]
      }
     ],
     "prompt_number": 1
    },
    {
     "cell_type": "code",
     "collapsed": false,
     "input": [
      "accidents = pd.read_csv('data/accidents_insee.csv', delimiter=';')"
     ],
     "language": "python",
     "metadata": {},
     "outputs": [
      {
       "output_type": "stream",
       "stream": "stderr",
       "text": [
        "P:\\Anaconda\\lib\\site-packages\\pandas\\io\\parsers.py:1130: DtypeWarning: Columns (15,29,31,36) have mixed types. Specify dtype option on import or set low_memory=False.\n",
        "  data = self._reader.read(nrows)\n"
       ]
      }
     ],
     "prompt_number": 2
    },
    {
     "cell_type": "code",
     "collapsed": false,
     "input": [
      "cols = accidents.columns"
     ],
     "language": "python",
     "metadata": {},
     "outputs": [],
     "prompt_number": 3
    },
    {
     "cell_type": "code",
     "collapsed": false,
     "input": [
      "N = len(accidents)"
     ],
     "language": "python",
     "metadata": {},
     "outputs": [],
     "prompt_number": 11
    },
    {
     "cell_type": "code",
     "collapsed": false,
     "input": [
      "geoloc = (accidents.lat.notnull() & accidents.long.notnull() &\n",
      "          (np.abs(accidents.lat)>0) & np.abs(accidents.long)>0)"
     ],
     "language": "python",
     "metadata": {},
     "outputs": [],
     "prompt_number": 12
    },
    {
     "cell_type": "code",
     "collapsed": false,
     "input": [
      "accgeoloc = accidents.ix[geoloc]"
     ],
     "language": "python",
     "metadata": {},
     "outputs": [],
     "prompt_number": 13
    },
    {
     "cell_type": "code",
     "collapsed": false,
     "input": [
      "nongeoloc = accidents.ix[~geoloc]"
     ],
     "language": "python",
     "metadata": {},
     "outputs": [],
     "prompt_number": 14
    },
    {
     "cell_type": "code",
     "collapsed": false,
     "input": [
      "cols"
     ],
     "language": "python",
     "metadata": {},
     "outputs": [
      {
       "metadata": {},
       "output_type": "pyout",
       "prompt_number": 15,
       "text": [
        "Index(['org', 'lum', 'agg', 'int', 'atm', 'col', 'com', 'dep', 'catr', 'infra', 'voie', 'v1', 'v2', 'circ', 'nbv', 'pr', 'pr1', 'vosp', 'prof', 'plan', 'situ', 'ttue', 'tbg', 'tbl', 'tindm', 'typenumero', 'numero', 'distancemetre', 'libellevoie', 'coderivoli', 'grav', 'gps', 'lat', 'long', 'adr', 'numac', 'codeinsee', 'geoflamatch', 'nbimplique'], dtype='object')"
       ]
      }
     ],
     "prompt_number": 15
    },
    {
     "cell_type": "code",
     "collapsed": false,
     "input": [
      "notnull = accidents.notnull().sum()/float(N)*100\n",
      "notnull.sort()\n",
      "notnull[::-1]"
     ],
     "language": "python",
     "metadata": {},
     "outputs": []
    },
    {
     "cell_type": "code",
     "collapsed": false,
     "input": [
      "accidents.libellevoie.notnull().sum()/float(N)*100"
     ],
     "language": "python",
     "metadata": {},
     "outputs": [
      {
       "metadata": {},
       "output_type": "pyout",
       "prompt_number": 9,
       "text": [
        "71.441021893954741"
       ]
      }
     ],
     "prompt_number": 9
    },
    {
     "cell_type": "code",
     "collapsed": false,
     "input": [
      "(~nongeoloc.libellevoie.notnull()).sum()/float(N)*100"
     ],
     "language": "python",
     "metadata": {},
     "outputs": [
      {
       "metadata": {},
       "output_type": "pyout",
       "prompt_number": 18,
       "text": [
        "15.529786166401099"
       ]
      }
     ],
     "prompt_number": 18
    },
    {
     "cell_type": "code",
     "collapsed": false,
     "input": [
      "np.sum((~geoloc) & (~accidents.libellevoie.notnull()) & \n",
      "       ~(accidents.pr.notnull()) \n",
      "       # & ~(accidents.pr1.notnull())\n",
      "       )/float(N)"
     ],
     "language": "python",
     "metadata": {},
     "outputs": [
      {
       "metadata": {},
       "output_type": "pyout",
       "prompt_number": 33,
       "text": [
        "0.012725255957673449"
       ]
      }
     ],
     "prompt_number": 33
    },
    {
     "cell_type": "code",
     "collapsed": false,
     "input": [
      "accidents.numero.tail()"
     ],
     "language": "python",
     "metadata": {},
     "outputs": [
      {
       "metadata": {},
       "output_type": "pyout",
       "prompt_number": 39,
       "text": [
        "454367     NaN\n",
        "454368     NaN\n",
        "454369    2100\n",
        "454370    2059\n",
        "454371     NaN\n",
        "Name: numero, dtype: float64"
       ]
      }
     ],
     "prompt_number": 39
    },
    {
     "cell_type": "code",
     "collapsed": false,
     "input": [
      "accidents.libellevoie.tail()"
     ],
     "language": "python",
     "metadata": {},
     "outputs": [
      {
       "metadata": {},
       "output_type": "pyout",
       "prompt_number": 36,
       "text": [
        "454367                        NaN\n",
        "454368                        NaN\n",
        "454369          BADUEL (ROUTE DE)\n",
        "454370    MADELEINE (ROUTE DE LA)\n",
        "454371                        NaN\n",
        "Name: libellevoie, dtype: object"
       ]
      }
     ],
     "prompt_number": 36
    },
    {
     "cell_type": "markdown",
     "metadata": {},
     "source": [
      "## Code postal \u00e0 partir du code INSEE"
     ]
    },
    {
     "cell_type": "code",
     "collapsed": false,
     "input": [
      "accidents.codeinsee"
     ],
     "language": "python",
     "metadata": {},
     "outputs": [
      {
       "metadata": {},
       "output_type": "pyout",
       "prompt_number": 42,
       "text": [
        "0     97305\n",
        "1     97311\n",
        "2     97309\n",
        "3     97304\n",
        "4     97312\n",
        "5     97311\n",
        "6     97311\n",
        "7     97411\n",
        "8     97414\n",
        "9     97418\n",
        "10    97410\n",
        "11    97453\n",
        "12    97409\n",
        "13    97402\n",
        "14    97415\n",
        "...\n",
        "454357    97302\n",
        "454358    97307\n",
        "454359    97309\n",
        "454360    97309\n",
        "454361    97302\n",
        "454362    97302\n",
        "454363    97302\n",
        "454364    97307\n",
        "454365    97307\n",
        "454366    97311\n",
        "454367    97309\n",
        "454368    97309\n",
        "454369    97302\n",
        "454370    97302\n",
        "454371    97307\n",
        "Name: codeinsee, Length: 454372, dtype: object"
       ]
      }
     ],
     "prompt_number": 42
    },
    {
     "cell_type": "code",
     "collapsed": false,
     "input": [
      "insee = pd.read_csv('data/code-insee-code-postal.csv', delimiter=';')"
     ],
     "language": "python",
     "metadata": {},
     "outputs": [],
     "prompt_number": 46
    },
    {
     "cell_type": "code",
     "collapsed": false,
     "input": [
      "insee.head()"
     ],
     "language": "python",
     "metadata": {},
     "outputs": [
      {
       "html": [
        "<div style=\"max-height:1000px;max-width:1500px;overflow:auto;\">\n",
        "<table border=\"1\" class=\"dataframe\">\n",
        "  <thead>\n",
        "    <tr style=\"text-align: right;\">\n",
        "      <th></th>\n",
        "      <th>insee_com</th>\n",
        "      <th>postal_code</th>\n",
        "      <th>nom_comm</th>\n",
        "      <th>nom_dept</th>\n",
        "      <th>nom_region</th>\n",
        "      <th>statut</th>\n",
        "      <th>z_moyen</th>\n",
        "      <th>superficie</th>\n",
        "      <th>population</th>\n",
        "      <th>geo_point_2d</th>\n",
        "      <th>geo_shape</th>\n",
        "      <th>id_geofla</th>\n",
        "      <th>code_comm</th>\n",
        "      <th>code_cant</th>\n",
        "      <th>code_arr</th>\n",
        "      <th>code_dept</th>\n",
        "      <th>code_reg</th>\n",
        "    </tr>\n",
        "  </thead>\n",
        "  <tbody>\n",
        "    <tr>\n",
        "      <th>0</th>\n",
        "      <td> 60042</td>\n",
        "      <td> 60140</td>\n",
        "      <td>        BAILLEVAL</td>\n",
        "      <td>           OISE</td>\n",
        "      <td>          PICARDIE</td>\n",
        "      <td> Commune simple</td>\n",
        "      <td>  96</td>\n",
        "      <td>  801</td>\n",
        "      <td> 1.5</td>\n",
        "      <td> 49.3492689664, 2.46620386202</td>\n",
        "      <td> {\"type\": \"Polygon\", \"coordinates\": [[[2.483718...</td>\n",
        "      <td> 25142</td>\n",
        "      <td>  42</td>\n",
        "      <td> 20</td>\n",
        "      <td> 2</td>\n",
        "      <td> 60</td>\n",
        "      <td> 22</td>\n",
        "    </tr>\n",
        "    <tr>\n",
        "      <th>1</th>\n",
        "      <td> 55420</td>\n",
        "      <td> 55220</td>\n",
        "      <td> RECOURT-LE-CREUX</td>\n",
        "      <td>          MEUSE</td>\n",
        "      <td>          LORRAINE</td>\n",
        "      <td> Commune simple</td>\n",
        "      <td> 269</td>\n",
        "      <td> 1440</td>\n",
        "      <td> 0.1</td>\n",
        "      <td> 48.9990933177, 5.37408151001</td>\n",
        "      <td> {\"type\": \"Polygon\", \"coordinates\": [[[5.363730...</td>\n",
        "      <td>  3916</td>\n",
        "      <td> 420</td>\n",
        "      <td> 18</td>\n",
        "      <td> 3</td>\n",
        "      <td> 55</td>\n",
        "      <td> 41</td>\n",
        "    </tr>\n",
        "    <tr>\n",
        "      <th>2</th>\n",
        "      <td> 10078</td>\n",
        "      <td> 10140</td>\n",
        "      <td>  CHAMP-SUR-BARSE</td>\n",
        "      <td>           AUBE</td>\n",
        "      <td> CHAMPAGNE-ARDENNE</td>\n",
        "      <td> Commune simple</td>\n",
        "      <td> 157</td>\n",
        "      <td>  709</td>\n",
        "      <td> 0.0</td>\n",
        "      <td> 48.2389704336, 4.41368768098</td>\n",
        "      <td> {\"type\": \"Polygon\", \"coordinates\": [[[4.417641...</td>\n",
        "      <td>  5354</td>\n",
        "      <td>  78</td>\n",
        "      <td> 25</td>\n",
        "      <td> 1</td>\n",
        "      <td> 10</td>\n",
        "      <td> 21</td>\n",
        "    </tr>\n",
        "    <tr>\n",
        "      <th>3</th>\n",
        "      <td> 37009</td>\n",
        "      <td> 37110</td>\n",
        "      <td>         AUTRECHE</td>\n",
        "      <td> INDRE-ET-LOIRE</td>\n",
        "      <td>            CENTRE</td>\n",
        "      <td> Commune simple</td>\n",
        "      <td> 106</td>\n",
        "      <td> 2059</td>\n",
        "      <td> 0.4</td>\n",
        "      <td> 47.5225157675, 1.00231924384</td>\n",
        "      <td> {\"type\": \"Polygon\", \"coordinates\": [[[0.998961...</td>\n",
        "      <td> 23968</td>\n",
        "      <td>   9</td>\n",
        "      <td>  6</td>\n",
        "      <td> 2</td>\n",
        "      <td> 37</td>\n",
        "      <td> 24</td>\n",
        "    </tr>\n",
        "    <tr>\n",
        "      <th>4</th>\n",
        "      <td> 08159</td>\n",
        "      <td> 08210</td>\n",
        "      <td> EUILLY-ET-LOMBUT</td>\n",
        "      <td>       ARDENNES</td>\n",
        "      <td> CHAMPAGNE-ARDENNE</td>\n",
        "      <td> Commune simple</td>\n",
        "      <td> 204</td>\n",
        "      <td> 1010</td>\n",
        "      <td> 0.1</td>\n",
        "      <td> 49.6288481448, 5.11368214907</td>\n",
        "      <td> {\"type\": \"Polygon\", \"coordinates\": [[[5.117944...</td>\n",
        "      <td> 15837</td>\n",
        "      <td> 159</td>\n",
        "      <td> 18</td>\n",
        "      <td> 3</td>\n",
        "      <td> 08</td>\n",
        "      <td> 21</td>\n",
        "    </tr>\n",
        "  </tbody>\n",
        "</table>\n",
        "</div>"
       ],
       "metadata": {},
       "output_type": "pyout",
       "prompt_number": 47,
       "text": [
        "  insee_com postal_code          nom_comm        nom_dept         nom_region  \\\n",
        "0     60042       60140         BAILLEVAL            OISE           PICARDIE   \n",
        "1     55420       55220  RECOURT-LE-CREUX           MEUSE           LORRAINE   \n",
        "2     10078       10140   CHAMP-SUR-BARSE            AUBE  CHAMPAGNE-ARDENNE   \n",
        "3     37009       37110          AUTRECHE  INDRE-ET-LOIRE             CENTRE   \n",
        "4     08159       08210  EUILLY-ET-LOMBUT        ARDENNES  CHAMPAGNE-ARDENNE   \n",
        "\n",
        "           statut  z_moyen  superficie  population  \\\n",
        "0  Commune simple       96         801         1.5   \n",
        "1  Commune simple      269        1440         0.1   \n",
        "2  Commune simple      157         709         0.0   \n",
        "3  Commune simple      106        2059         0.4   \n",
        "4  Commune simple      204        1010         0.1   \n",
        "\n",
        "                   geo_point_2d  \\\n",
        "0  49.3492689664, 2.46620386202   \n",
        "1  48.9990933177, 5.37408151001   \n",
        "2  48.2389704336, 4.41368768098   \n",
        "3  47.5225157675, 1.00231924384   \n",
        "4  49.6288481448, 5.11368214907   \n",
        "\n",
        "                                           geo_shape  id_geofla  code_comm  \\\n",
        "0  {\"type\": \"Polygon\", \"coordinates\": [[[2.483718...      25142         42   \n",
        "1  {\"type\": \"Polygon\", \"coordinates\": [[[5.363730...       3916        420   \n",
        "2  {\"type\": \"Polygon\", \"coordinates\": [[[4.417641...       5354         78   \n",
        "3  {\"type\": \"Polygon\", \"coordinates\": [[[0.998961...      23968          9   \n",
        "4  {\"type\": \"Polygon\", \"coordinates\": [[[5.117944...      15837        159   \n",
        "\n",
        "   code_cant  code_arr code_dept  code_reg  \n",
        "0         20         2        60        22  \n",
        "1         18         3        55        41  \n",
        "2         25         1        10        21  \n",
        "3          6         2        37        24  \n",
        "4         18         3        08        21  "
       ]
      }
     ],
     "prompt_number": 47
    },
    {
     "cell_type": "code",
     "collapsed": false,
     "input": [
      "corrinsee = insee['postal_code'] + ' '+ insee['nom_comm'] +' '+ insee['nom_dept']\n",
      "corrinsee                                                        "
     ],
     "language": "python",
     "metadata": {},
     "outputs": [
      {
       "metadata": {},
       "output_type": "pyout",
       "prompt_number": 50,
       "text": [
        "0                    60140 BAILLEVAL OISE\n",
        "1            55220 RECOURT-LE-CREUX MEUSE\n",
        "2              10140 CHAMP-SUR-BARSE AUBE\n",
        "3           37110 AUTRECHE INDRE-ET-LOIRE\n",
        "4         08210 EUILLY-ET-LOMBUT ARDENNES\n",
        "5                  26110 ROCHEBRUNE DROME\n",
        "6        64120 BUNUS PYRENEES-ATLANTIQUES\n",
        "7          14160 PERIERS-EN-AUGE CALVADOS\n",
        "8         57680 CORNY-SUR-MOSELLE MOSELLE\n",
        "9                   02110 FIEULAINE AISNE\n",
        "10      51480 BELVAL-SOUS-CHATILLON MARNE\n",
        "11    90000 BELFORT TERRITOIRE DE BELFORT\n",
        "12      42640 SAINT-ROMAIN-LA-MOTTE LOIRE\n",
        "13         08360 CHATEAU-PORCIEN ARDENNES\n",
        "14       44560 PAIMBOEUF LOIRE-ATLANTIQUE\n",
        "...\n",
        "36727                   82600 MAS-GRENIER TARN-ET-GARONNE\n",
        "36728                                 48300 ROCLES LOZERE\n",
        "36729                  78720 LA CELLE-LES-BORDES YVELINES\n",
        "36730    17240 SAINT-ROMAIN-SUR-GIRONDE CHARENTE-MARITIME\n",
        "36731                        22540 LOUARGAT COTES-D'ARMOR\n",
        "36732                      22800 SAINT-BIHY COTES-D'ARMOR\n",
        "36733                43320 VAZEILLES-LIMANDRE HAUTE-LOIRE\n",
        "36734           77177 BROU-SUR-CHANTEREINE SEINE-ET-MARNE\n",
        "36735                33820 SAINT-CAPRAIS-DE-BLAYE GIRONDE\n",
        "36736                          68210 DANNEMARIE HAUT-RHIN\n",
        "36737                         18600 NEUVY-LE-BARROIS CHER\n",
        "36738                                 18340 SENNECAY CHER\n",
        "36739                    33440 AMBARES-ET-LAGRAVE GIRONDE\n",
        "36740                85290 SAINT-LAURENT-SUR-SEVRE VENDEE\n",
        "36741                           20113 OLMETO CORSE-DU-SUD\n",
        "Length: 36742, dtype: object"
       ]
      }
     ],
     "prompt_number": 50
    },
    {
     "cell_type": "code",
     "collapsed": false,
     "input": [
      "insee['addr'] = corrinsee"
     ],
     "language": "python",
     "metadata": {},
     "outputs": [],
     "prompt_number": 52
    },
    {
     "cell_type": "code",
     "collapsed": false,
     "input": [
      "accidents['insee_com'] = accidents.codeinsee"
     ],
     "language": "python",
     "metadata": {},
     "outputs": [],
     "prompt_number": 54
    },
    {
     "cell_type": "code",
     "collapsed": false,
     "input": [
      "insee.insee_com"
     ],
     "language": "python",
     "metadata": {},
     "outputs": [
      {
       "metadata": {},
       "output_type": "pyout",
       "prompt_number": 57,
       "text": [
        "0     60042\n",
        "1     55420\n",
        "2     10078\n",
        "3     37009\n",
        "4     08159\n",
        "5     26269\n",
        "6     64150\n",
        "7     14494\n",
        "8     57153\n",
        "9     02310\n",
        "10    51048\n",
        "11    90010\n",
        "12    42284\n",
        "13    08107\n",
        "14    44116\n",
        "...\n",
        "36727    82105\n",
        "36728    48129\n",
        "36729    78125\n",
        "36730    17392\n",
        "36731    22135\n",
        "36732    22276\n",
        "36733    43254\n",
        "36734    77055\n",
        "36735    33380\n",
        "36736    68068\n",
        "36737    18164\n",
        "36738    18248\n",
        "36739    33003\n",
        "36740    85238\n",
        "36741    2A189\n",
        "Name: insee_com, Length: 36742, dtype: object"
       ]
      }
     ],
     "prompt_number": 57
    },
    {
     "cell_type": "code",
     "collapsed": false,
     "input": [
      "accidents.insee_com.describe()"
     ],
     "language": "python",
     "metadata": {},
     "outputs": [
      {
       "metadata": {},
       "output_type": "pyout",
       "prompt_number": 97,
       "text": [
        "count     454372\n",
        "unique     37522\n",
        "top        13055\n",
        "freq       16014\n",
        "dtype: object"
       ]
      }
     ],
     "prompt_number": 97
    },
    {
     "cell_type": "code",
     "collapsed": false,
     "input": [
      "insee.columns"
     ],
     "language": "python",
     "metadata": {},
     "outputs": [
      {
       "metadata": {},
       "output_type": "pyout",
       "prompt_number": 109,
       "text": [
        "Index(['insee_com', 'postal_code', 'nom_comm', 'nom_dept', 'nom_region', 'statut', 'code_comm', 'code_cant', 'code_arr', 'code_dept', 'code_reg', 'addr'], dtype='object')"
       ]
      }
     ],
     "prompt_number": 109
    },
    {
     "cell_type": "code",
     "collapsed": false,
     "input": [
      "del insee['z_moyen']\n",
      "del insee['superficie']\n",
      "del insee['population']\n",
      "del insee['geo_point_2d']\n",
      "del insee['geo_shape']\n",
      "del insee['id_geofla']"
     ],
     "language": "python",
     "metadata": {},
     "outputs": []
    },
    {
     "cell_type": "code",
     "collapsed": false,
     "input": [
      "del insee['statut']\n",
      "del insee['code_comm']\n",
      "del insee['code_cant']\n",
      "del insee['code_arr']\n",
      "del insee['code_dept']\n",
      "del insee['code_reg']"
     ],
     "language": "python",
     "metadata": {},
     "outputs": [],
     "prompt_number": 111
    },
    {
     "cell_type": "code",
     "collapsed": false,
     "input": [
      "ds = pd.merge(accidents, insee, on='insee_com', left_index=True, how='left')\n",
      "len(ds)"
     ],
     "language": "python",
     "metadata": {},
     "outputs": [
      {
       "metadata": {},
       "output_type": "pyout",
       "prompt_number": 140,
       "text": [
        "454372"
       ]
      }
     ],
     "prompt_number": 140
    },
    {
     "cell_type": "code",
     "collapsed": false,
     "input": [
      "import csv\n",
      "csv.QUOTE_ALL\n",
      "ds.to_csv('data/data_merged.csv', sep=';', doublequote=True, quoting=csv.QUOTE_ALL, encoding='utf8')"
     ],
     "language": "python",
     "metadata": {},
     "outputs": [],
     "prompt_number": 141
    },
    {
     "cell_type": "code",
     "collapsed": false,
     "input": [
      "ds.head()"
     ],
     "language": "python",
     "metadata": {},
     "outputs": [
      {
       "html": [
        "<div style=\"max-height:1000px;max-width:1500px;overflow:auto;\">\n",
        "<table border=\"1\" class=\"dataframe\">\n",
        "  <thead>\n",
        "    <tr style=\"text-align: right;\">\n",
        "      <th></th>\n",
        "      <th>org</th>\n",
        "      <th>lum</th>\n",
        "      <th>agg</th>\n",
        "      <th>int</th>\n",
        "      <th>atm</th>\n",
        "      <th>col</th>\n",
        "      <th>com</th>\n",
        "      <th>dep</th>\n",
        "      <th>catr</th>\n",
        "      <th>infra</th>\n",
        "      <th>...</th>\n",
        "      <th>numac</th>\n",
        "      <th>codeinsee</th>\n",
        "      <th>geoflamatch</th>\n",
        "      <th>nbimplique</th>\n",
        "      <th>insee_com</th>\n",
        "      <th>postal_code</th>\n",
        "      <th>nom_comm</th>\n",
        "      <th>nom_dept</th>\n",
        "      <th>nom_region</th>\n",
        "      <th>addr</th>\n",
        "    </tr>\n",
        "  </thead>\n",
        "  <tbody>\n",
        "    <tr>\n",
        "      <th>11441</th>\n",
        "      <td> 1</td>\n",
        "      <td> 1</td>\n",
        "      <td> 1</td>\n",
        "      <td> 1</td>\n",
        "      <td> 1</td>\n",
        "      <td> 3</td>\n",
        "      <td> 305</td>\n",
        "      <td> 973</td>\n",
        "      <td>NaN</td>\n",
        "      <td>NaN</td>\n",
        "      <td>...</td>\n",
        "      <td> 382566</td>\n",
        "      <td> 97305</td>\n",
        "      <td> N</td>\n",
        "      <td> 2</td>\n",
        "      <td> 97305</td>\n",
        "      <td> 97355</td>\n",
        "      <td> MACOURIA</td>\n",
        "      <td> GUYANE</td>\n",
        "      <td> GUYANE</td>\n",
        "      <td> 97355 MACOURIA GUYANE</td>\n",
        "    </tr>\n",
        "    <tr>\n",
        "      <th>11441</th>\n",
        "      <td> 1</td>\n",
        "      <td> 3</td>\n",
        "      <td> 1</td>\n",
        "      <td> 1</td>\n",
        "      <td> 1</td>\n",
        "      <td> 1</td>\n",
        "      <td> 305</td>\n",
        "      <td> 973</td>\n",
        "      <td>NaN</td>\n",
        "      <td>NaN</td>\n",
        "      <td>...</td>\n",
        "      <td> 450133</td>\n",
        "      <td> 97305</td>\n",
        "      <td> N</td>\n",
        "      <td> 5</td>\n",
        "      <td> 97305</td>\n",
        "      <td> 97355</td>\n",
        "      <td> MACOURIA</td>\n",
        "      <td> GUYANE</td>\n",
        "      <td> GUYANE</td>\n",
        "      <td> 97355 MACOURIA GUYANE</td>\n",
        "    </tr>\n",
        "    <tr>\n",
        "      <th>11441</th>\n",
        "      <td> 1</td>\n",
        "      <td> 3</td>\n",
        "      <td> 1</td>\n",
        "      <td> 1</td>\n",
        "      <td> 1</td>\n",
        "      <td> 7</td>\n",
        "      <td>   5</td>\n",
        "      <td> 973</td>\n",
        "      <td>NaN</td>\n",
        "      <td>NaN</td>\n",
        "      <td>...</td>\n",
        "      <td> 450144</td>\n",
        "      <td> 97305</td>\n",
        "      <td> N</td>\n",
        "      <td> 2</td>\n",
        "      <td> 97305</td>\n",
        "      <td> 97355</td>\n",
        "      <td> MACOURIA</td>\n",
        "      <td> GUYANE</td>\n",
        "      <td> GUYANE</td>\n",
        "      <td> 97355 MACOURIA GUYANE</td>\n",
        "    </tr>\n",
        "    <tr>\n",
        "      <th>11441</th>\n",
        "      <td> 1</td>\n",
        "      <td> 1</td>\n",
        "      <td> 1</td>\n",
        "      <td> 2</td>\n",
        "      <td> 1</td>\n",
        "      <td> 5</td>\n",
        "      <td> 305</td>\n",
        "      <td> 973</td>\n",
        "      <td>NaN</td>\n",
        "      <td>NaN</td>\n",
        "      <td>...</td>\n",
        "      <td> 453304</td>\n",
        "      <td> 97305</td>\n",
        "      <td> N</td>\n",
        "      <td> 3</td>\n",
        "      <td> 97305</td>\n",
        "      <td> 97355</td>\n",
        "      <td> MACOURIA</td>\n",
        "      <td> GUYANE</td>\n",
        "      <td> GUYANE</td>\n",
        "      <td> 97355 MACOURIA GUYANE</td>\n",
        "    </tr>\n",
        "    <tr>\n",
        "      <th>11441</th>\n",
        "      <td> 1</td>\n",
        "      <td> 2</td>\n",
        "      <td> 1</td>\n",
        "      <td> 1</td>\n",
        "      <td> 1</td>\n",
        "      <td> 2</td>\n",
        "      <td> 305</td>\n",
        "      <td> 973</td>\n",
        "      <td>NaN</td>\n",
        "      <td>NaN</td>\n",
        "      <td>...</td>\n",
        "      <td> 453305</td>\n",
        "      <td> 97305</td>\n",
        "      <td> N</td>\n",
        "      <td> 3</td>\n",
        "      <td> 97305</td>\n",
        "      <td> 97355</td>\n",
        "      <td> MACOURIA</td>\n",
        "      <td> GUYANE</td>\n",
        "      <td> GUYANE</td>\n",
        "      <td> 97355 MACOURIA GUYANE</td>\n",
        "    </tr>\n",
        "  </tbody>\n",
        "</table>\n",
        "<p>5 rows \u00d7 45 columns</p>\n",
        "</div>"
       ],
       "metadata": {},
       "output_type": "pyout",
       "prompt_number": 142,
       "text": [
        "       org  lum  agg  int  atm  col  com  dep  catr  infra  ...     numac  \\\n",
        "11441    1    1    1    1    1    3  305  973   NaN    NaN  ...    382566   \n",
        "11441    1    3    1    1    1    1  305  973   NaN    NaN  ...    450133   \n",
        "11441    1    3    1    1    1    7    5  973   NaN    NaN  ...    450144   \n",
        "11441    1    1    1    2    1    5  305  973   NaN    NaN  ...    453304   \n",
        "11441    1    2    1    1    1    2  305  973   NaN    NaN  ...    453305   \n",
        "\n",
        "       codeinsee geoflamatch  nbimplique  insee_com postal_code  nom_comm  \\\n",
        "11441      97305           N           2      97305       97355  MACOURIA   \n",
        "11441      97305           N           5      97305       97355  MACOURIA   \n",
        "11441      97305           N           2      97305       97355  MACOURIA   \n",
        "11441      97305           N           3      97305       97355  MACOURIA   \n",
        "11441      97305           N           3      97305       97355  MACOURIA   \n",
        "\n",
        "       nom_dept  nom_region                   addr  \n",
        "11441    GUYANE      GUYANE  97355 MACOURIA GUYANE  \n",
        "11441    GUYANE      GUYANE  97355 MACOURIA GUYANE  \n",
        "11441    GUYANE      GUYANE  97355 MACOURIA GUYANE  \n",
        "11441    GUYANE      GUYANE  97355 MACOURIA GUYANE  \n",
        "11441    GUYANE      GUYANE  97355 MACOURIA GUYANE  \n",
        "\n",
        "[5 rows x 45 columns]"
       ]
      }
     ],
     "prompt_number": 142
    },
    {
     "cell_type": "code",
     "collapsed": false,
     "input": [
      "ds.addr.tail()"
     ],
     "language": "python",
     "metadata": {},
     "outputs": [
      {
       "metadata": {},
       "output_type": "pyout",
       "prompt_number": 121,
       "text": [
        "16981    19300 ROSIERS-D'EGLETONS CORREZE\n",
        "4303           20225 AVAPESSA HAUTE-CORSE\n",
        "23036            21260 SELONGEY COTE-D'OR\n",
        "24032          76270 BULLY SEINE-MARITIME\n",
        "7972       97218 GRAND'RIVIERE MARTINIQUE\n",
        "Name: addr, dtype: object"
       ]
      }
     ],
     "prompt_number": 121
    },
    {
     "cell_type": "code",
     "collapsed": false,
     "input": [
      "ds.columns"
     ],
     "language": "python",
     "metadata": {},
     "outputs": [
      {
       "metadata": {},
       "output_type": "pyout",
       "prompt_number": 120,
       "text": [
        "Index(['org', 'lum', 'agg', 'int', 'atm', 'col', 'com', 'dep', 'catr', 'infra', 'voie', 'v1', 'v2', 'circ', 'nbv', 'pr', 'pr1', 'vosp', 'prof', 'plan', 'situ', 'ttue', 'tbg', 'tbl', 'tindm', 'typenumero', 'numero', 'distancemetre', 'libellevoie', 'coderivoli', 'grav', 'gps', 'lat', 'long', 'adr', 'numac', 'codeinsee', 'geoflamatch', 'nbimplique', 'insee_com', 'postal_code', 'nom_comm', 'nom_dept', 'nom_region', 'addr'], dtype='object')"
       ]
      }
     ],
     "prompt_number": 120
    },
    {
     "cell_type": "code",
     "collapsed": false,
     "input": [
      "len(accidents), len(insee), len(ds)"
     ],
     "language": "python",
     "metadata": {},
     "outputs": [
      {
       "metadata": {},
       "output_type": "pyout",
       "prompt_number": 114,
       "text": [
        "(454372, 36742, 454372)"
       ]
      }
     ],
     "prompt_number": 114
    },
    {
     "cell_type": "code",
     "collapsed": false,
     "input": [
      "ds.columns"
     ],
     "language": "python",
     "metadata": {},
     "outputs": [
      {
       "metadata": {},
       "output_type": "pyout",
       "prompt_number": 115,
       "text": [
        "Index(['org', 'lum', 'agg', 'int', 'atm', 'col', 'com', 'dep', 'catr', 'infra', 'voie', 'v1', 'v2', 'circ', 'nbv', 'pr', 'pr1', 'vosp', 'prof', 'plan', 'situ', 'ttue', 'tbg', 'tbl', 'tindm', 'typenumero', 'numero', 'distancemetre', 'libellevoie', 'coderivoli', 'grav', 'gps', 'lat', 'long', 'adr', 'numac', 'codeinsee', 'geoflamatch', 'nbimplique', 'insee_com', 'postal_code', 'nom_comm', 'nom_dept', 'nom_region', 'addr'], dtype='object')"
       ]
      }
     ],
     "prompt_number": 115
    },
    {
     "cell_type": "code",
     "collapsed": false,
     "input": [
      "ds.libellevoie[ds.libellevoie.notnull()].head()"
     ],
     "language": "python",
     "metadata": {},
     "outputs": [
      {
       "metadata": {},
       "output_type": "pyout",
       "prompt_number": 149,
       "text": [
        "33302    BOUDINOT (AUGUSTE) CITE THEMIRE\n",
        "33302                FELIX EBOUE(ROCADE)\n",
        "33302                ROUTE NATIONALE III\n",
        "11442            CANAL (CHEMIN DU GRAND)\n",
        "11442                     BUTOR (RUE DU)\n",
        "Name: libellevoie, dtype: object"
       ]
      }
     ],
     "prompt_number": 149
    },
    {
     "cell_type": "code",
     "collapsed": false,
     "input": [
      "ds.libellevoie[ds.libellevoie.notnull()].head()"
     ],
     "language": "python",
     "metadata": {},
     "outputs": [
      {
       "metadata": {},
       "output_type": "pyout",
       "prompt_number": 151,
       "text": [
        "33302    AUGUSTE BOUDINOT  CITE THEMIRE\n",
        "33302                ROCADE FELIX EBOUE\n",
        "33302               ROUTE NATIONALE III\n",
        "11442            CHEMIN DU GRAND CANAL \n",
        "11442                     RUE DU BUTOR \n",
        "Name: libellevoie, dtype: object"
       ]
      }
     ],
     "prompt_number": 151
    },
    {
     "cell_type": "code",
     "collapsed": false,
     "input": [
      "ds.libellevoie = ds.libellevoie.str.replace(r'([^\\(]+)\\(([^\\)]+)\\)', r'\\2 \\1')"
     ],
     "language": "python",
     "metadata": {},
     "outputs": [],
     "prompt_number": 153
    },
    {
     "cell_type": "code",
     "collapsed": false,
     "input": [
      "num = ds.numero.astype(str).replace('nan', '').replace('0.0', '')\n",
      "num.head()"
     ],
     "language": "python",
     "metadata": {},
     "outputs": [
      {
       "metadata": {},
       "output_type": "pyout",
       "prompt_number": 157,
       "text": [
        "11441    \n",
        "11441    \n",
        "11441    \n",
        "11441    \n",
        "11441    \n",
        "Name: numero, dtype: object"
       ]
      }
     ],
     "prompt_number": 157
    },
    {
     "cell_type": "code",
     "collapsed": false,
     "input": [
      "ds['addr_tot'] = num + ' ' + ds.libellevoie + ' ' + ds.addr\n",
      "ds['addr_tot'].ix[ds['addr_tot'].notnull()]"
     ],
     "language": "python",
     "metadata": {},
     "outputs": [
      {
       "metadata": {},
       "output_type": "pyout",
       "prompt_number": 158,
       "text": [
        "33302    12.0 AUGUSTE BOUDINOT  CITE THEMIRE 97315 SINN...\n",
        "33302     2371.0 ROCADE FELIX EBOUE 97315 SINNAMARY GUYANE\n",
        "33302           ROUTE NATIONALE III 97315 SINNAMARY GUYANE\n",
        "11442    116.0 CHEMIN DU GRAND CANAL  97400 SAINT-DENIS...\n",
        "11442          1.0 RUE DU BUTOR  97400 SAINT-DENIS REUNION\n",
        "11442    10.0 BOULEVARD JEAN JAURES  97400 SAINT-DENIS ...\n",
        "11442    1.0 AVENUE LECONTE DE LISLE  97400 SAINT-DENIS...\n",
        "11442    1.0 AVENUE DE LA VICTOIRE  97400 SAINT-DENIS R...\n",
        "11442      2.0 ALLEE DES TOPAZES 97400 SAINT-DENIS REUNION\n",
        "11442    25.0 BOULEVARD DE LA PROVIDENCE  97400 SAINT-D...\n",
        "11442       ROUTE 1 DU LITTORAL  97400 SAINT-DENIS REUNION\n",
        "11442       BOULEVARD LANCASTEL  97400 SAINT-DENIS REUNION\n",
        "11442      DU GENERAL DE GAULLE  97400 SAINT-DENIS REUNION\n",
        "11442     BOULEVARD JEAN JAURES  97400 SAINT-DENIS REUNION\n",
        "11442        RUE LORY LES HAUTS  97400 SAINT-DENIS REUNION\n",
        "...\n",
        "11          GRANDE RUE 90000 BELFORT TERRITOIRE DE BELFORT\n",
        "24877                  RUE DE CERCAY  91800 BRUNOY ESSONNE\n",
        "25791                   AUTOROUTE A5A 91250 TIGERY ESSONNE\n",
        "31745    4.0 RUE DE LA GARE 92300 LEVALLOIS-PERRET HAUT...\n",
        "31745    12.0 R D'ALSACE 92300 LEVALLOIS-PERRET HAUTS-D...\n",
        "34598     AVENUE DU MONT VALERIEN  92500 RUEIL-MALMAISO...\n",
        "23681     AV ARISTIDE BRIAND 92120 MONTROUGE HAUTS-DE-S...\n",
        "23171                R GEORGES V 95600 EAUBONNE VAL-D'OISE\n",
        "23228     QUARTIER Z.I DU MARTRAY  14730 GIBERVILLE CAL...\n",
        "22811                    RN406 94460 VALENTON VAL-DE-MARNE\n",
        "29032          R.D. 104 95560 BAILLET-EN-FRANCE VAL-D'OISE\n",
        "34958                            RN814 14000 CAEN CALVADOS\n",
        "34958                     RUE BARBEUX  14000 CAEN CALVADOS\n",
        "8644     21.0 CHEMIN MAJOURDIN   24650 CHANCELADE DORDOGNE\n",
        "32022    1.0 CORNICHE  PAUL BENARD 06130/06520 GRASSE A...\n",
        "Name: addr_tot, Length: 61115, dtype: object"
       ]
      }
     ],
     "prompt_number": 158
    },
    {
     "cell_type": "code",
     "collapsed": false,
     "input": [
      "del ds['addr']"
     ],
     "language": "python",
     "metadata": {},
     "outputs": [],
     "prompt_number": 160
    },
    {
     "cell_type": "code",
     "collapsed": false,
     "input": [
      "del ds['nom_comm']\n",
      "del ds['nom_dept']\n",
      "del ds['nom_region']"
     ],
     "language": "python",
     "metadata": {},
     "outputs": [],
     "prompt_number": 161
    },
    {
     "cell_type": "code",
     "collapsed": false,
     "input": [
      "del ds['adr']"
     ],
     "language": "python",
     "metadata": {},
     "outputs": [],
     "prompt_number": 166
    },
    {
     "cell_type": "code",
     "collapsed": false,
     "input": [],
     "language": "python",
     "metadata": {},
     "outputs": []
    },
    {
     "cell_type": "code",
     "collapsed": false,
     "input": [
      "ds.columns"
     ],
     "language": "python",
     "metadata": {},
     "outputs": [
      {
       "metadata": {},
       "output_type": "pyout",
       "prompt_number": 162,
       "text": [
        "Index(['org', 'lum', 'agg', 'int', 'atm', 'col', 'com', 'dep', 'catr', 'infra', 'voie', 'v1', 'v2', 'circ', 'nbv', 'pr', 'pr1', 'vosp', 'prof', 'plan', 'situ', 'ttue', 'tbg', 'tbl', 'tindm', 'typenumero', 'numero', 'distancemetre', 'libellevoie', 'coderivoli', 'grav', 'gps', 'lat', 'long', 'adr', 'numac', 'codeinsee', 'geoflamatch', 'nbimplique', 'insee_com', 'postal_code', 'addr_tot'], dtype='object')"
       ]
      }
     ],
     "prompt_number": 162
    },
    {
     "cell_type": "code",
     "collapsed": false,
     "input": [
      "ds.head()"
     ],
     "language": "python",
     "metadata": {},
     "outputs": [
      {
       "html": [
        "<div style=\"max-height:1000px;max-width:1500px;overflow:auto;\">\n",
        "<table border=\"1\" class=\"dataframe\">\n",
        "  <thead>\n",
        "    <tr style=\"text-align: right;\">\n",
        "      <th></th>\n",
        "      <th>org</th>\n",
        "      <th>lum</th>\n",
        "      <th>agg</th>\n",
        "      <th>int</th>\n",
        "      <th>atm</th>\n",
        "      <th>col</th>\n",
        "      <th>com</th>\n",
        "      <th>dep</th>\n",
        "      <th>catr</th>\n",
        "      <th>infra</th>\n",
        "      <th>...</th>\n",
        "      <th>gps</th>\n",
        "      <th>lat</th>\n",
        "      <th>long</th>\n",
        "      <th>numac</th>\n",
        "      <th>codeinsee</th>\n",
        "      <th>geoflamatch</th>\n",
        "      <th>nbimplique</th>\n",
        "      <th>insee_com</th>\n",
        "      <th>postal_code</th>\n",
        "      <th>addr_tot</th>\n",
        "    </tr>\n",
        "  </thead>\n",
        "  <tbody>\n",
        "    <tr>\n",
        "      <th>11441</th>\n",
        "      <td> 1</td>\n",
        "      <td> 1</td>\n",
        "      <td> 1</td>\n",
        "      <td> 1</td>\n",
        "      <td> 1</td>\n",
        "      <td> 3</td>\n",
        "      <td> 305</td>\n",
        "      <td> 973</td>\n",
        "      <td>NaN</td>\n",
        "      <td>NaN</td>\n",
        "      <td>...</td>\n",
        "      <td> G</td>\n",
        "      <td> 0</td>\n",
        "      <td> 0</td>\n",
        "      <td> 382566</td>\n",
        "      <td> 97305</td>\n",
        "      <td> N</td>\n",
        "      <td> 2</td>\n",
        "      <td> 97305</td>\n",
        "      <td> 97355</td>\n",
        "      <td> NaN</td>\n",
        "    </tr>\n",
        "    <tr>\n",
        "      <th>11441</th>\n",
        "      <td> 1</td>\n",
        "      <td> 3</td>\n",
        "      <td> 1</td>\n",
        "      <td> 1</td>\n",
        "      <td> 1</td>\n",
        "      <td> 1</td>\n",
        "      <td> 305</td>\n",
        "      <td> 973</td>\n",
        "      <td>NaN</td>\n",
        "      <td>NaN</td>\n",
        "      <td>...</td>\n",
        "      <td> G</td>\n",
        "      <td> 0</td>\n",
        "      <td> 0</td>\n",
        "      <td> 450133</td>\n",
        "      <td> 97305</td>\n",
        "      <td> N</td>\n",
        "      <td> 5</td>\n",
        "      <td> 97305</td>\n",
        "      <td> 97355</td>\n",
        "      <td> NaN</td>\n",
        "    </tr>\n",
        "    <tr>\n",
        "      <th>11441</th>\n",
        "      <td> 1</td>\n",
        "      <td> 3</td>\n",
        "      <td> 1</td>\n",
        "      <td> 1</td>\n",
        "      <td> 1</td>\n",
        "      <td> 7</td>\n",
        "      <td>   5</td>\n",
        "      <td> 973</td>\n",
        "      <td>NaN</td>\n",
        "      <td>NaN</td>\n",
        "      <td>...</td>\n",
        "      <td> G</td>\n",
        "      <td> 0</td>\n",
        "      <td> 0</td>\n",
        "      <td> 450144</td>\n",
        "      <td> 97305</td>\n",
        "      <td> N</td>\n",
        "      <td> 2</td>\n",
        "      <td> 97305</td>\n",
        "      <td> 97355</td>\n",
        "      <td> NaN</td>\n",
        "    </tr>\n",
        "    <tr>\n",
        "      <th>11441</th>\n",
        "      <td> 1</td>\n",
        "      <td> 1</td>\n",
        "      <td> 1</td>\n",
        "      <td> 2</td>\n",
        "      <td> 1</td>\n",
        "      <td> 5</td>\n",
        "      <td> 305</td>\n",
        "      <td> 973</td>\n",
        "      <td>NaN</td>\n",
        "      <td>NaN</td>\n",
        "      <td>...</td>\n",
        "      <td> G</td>\n",
        "      <td> 0</td>\n",
        "      <td> 0</td>\n",
        "      <td> 453304</td>\n",
        "      <td> 97305</td>\n",
        "      <td> N</td>\n",
        "      <td> 3</td>\n",
        "      <td> 97305</td>\n",
        "      <td> 97355</td>\n",
        "      <td> NaN</td>\n",
        "    </tr>\n",
        "    <tr>\n",
        "      <th>11441</th>\n",
        "      <td> 1</td>\n",
        "      <td> 2</td>\n",
        "      <td> 1</td>\n",
        "      <td> 1</td>\n",
        "      <td> 1</td>\n",
        "      <td> 2</td>\n",
        "      <td> 305</td>\n",
        "      <td> 973</td>\n",
        "      <td>NaN</td>\n",
        "      <td>NaN</td>\n",
        "      <td>...</td>\n",
        "      <td> G</td>\n",
        "      <td> 0</td>\n",
        "      <td> 0</td>\n",
        "      <td> 453305</td>\n",
        "      <td> 97305</td>\n",
        "      <td> N</td>\n",
        "      <td> 3</td>\n",
        "      <td> 97305</td>\n",
        "      <td> 97355</td>\n",
        "      <td> NaN</td>\n",
        "    </tr>\n",
        "  </tbody>\n",
        "</table>\n",
        "<p>5 rows \u00d7 41 columns</p>\n",
        "</div>"
       ],
       "metadata": {},
       "output_type": "pyout",
       "prompt_number": 170,
       "text": [
        "       org  lum  agg  int  atm  col  com  dep  catr  infra  ...    gps  lat  \\\n",
        "11441    1    1    1    1    1    3  305  973   NaN    NaN  ...      G    0   \n",
        "11441    1    3    1    1    1    1  305  973   NaN    NaN  ...      G    0   \n",
        "11441    1    3    1    1    1    7    5  973   NaN    NaN  ...      G    0   \n",
        "11441    1    1    1    2    1    5  305  973   NaN    NaN  ...      G    0   \n",
        "11441    1    2    1    1    1    2  305  973   NaN    NaN  ...      G    0   \n",
        "\n",
        "      long   numac  codeinsee geoflamatch  nbimplique  insee_com  postal_code  \\\n",
        "11441    0  382566      97305           N           2      97305        97355   \n",
        "11441    0  450133      97305           N           5      97305        97355   \n",
        "11441    0  450144      97305           N           2      97305        97355   \n",
        "11441    0  453304      97305           N           3      97305        97355   \n",
        "11441    0  453305      97305           N           3      97305        97355   \n",
        "\n",
        "       addr_tot  \n",
        "11441       NaN  \n",
        "11441       NaN  \n",
        "11441       NaN  \n",
        "11441       NaN  \n",
        "11441       NaN  \n",
        "\n",
        "[5 rows x 41 columns]"
       ]
      }
     ],
     "prompt_number": 170
    },
    {
     "cell_type": "code",
     "collapsed": false,
     "input": [
      "import csv\n",
      "ds.to_csv('data/data_addr.csv', sep=';', doublequote=True, encoding='utf8', index=False)"
     ],
     "language": "python",
     "metadata": {},
     "outputs": [],
     "prompt_number": 171
    },
    {
     "cell_type": "code",
     "collapsed": false,
     "input": [
      "ds2 = pd.read_csv('data/data_addr.csv', delimiter=';')\n",
      "ds2.head()"
     ],
     "language": "python",
     "metadata": {},
     "outputs": [
      {
       "output_type": "stream",
       "stream": "stderr",
       "text": [
        "P:\\Anaconda\\lib\\site-packages\\pandas\\io\\parsers.py:1130: DtypeWarning: Columns (15,29,31,35,38,39,40) have mixed types. Specify dtype option on import or set low_memory=False.\n",
        "  data = self._reader.read(nrows)\n"
       ]
      },
      {
       "html": [
        "<div style=\"max-height:1000px;max-width:1500px;overflow:auto;\">\n",
        "<table border=\"1\" class=\"dataframe\">\n",
        "  <thead>\n",
        "    <tr style=\"text-align: right;\">\n",
        "      <th></th>\n",
        "      <th>org</th>\n",
        "      <th>lum</th>\n",
        "      <th>agg</th>\n",
        "      <th>int</th>\n",
        "      <th>atm</th>\n",
        "      <th>col</th>\n",
        "      <th>com</th>\n",
        "      <th>dep</th>\n",
        "      <th>catr</th>\n",
        "      <th>infra</th>\n",
        "      <th>...</th>\n",
        "      <th>gps</th>\n",
        "      <th>lat</th>\n",
        "      <th>long</th>\n",
        "      <th>numac</th>\n",
        "      <th>codeinsee</th>\n",
        "      <th>geoflamatch</th>\n",
        "      <th>nbimplique</th>\n",
        "      <th>insee_com</th>\n",
        "      <th>postal_code</th>\n",
        "      <th>addr_tot</th>\n",
        "    </tr>\n",
        "  </thead>\n",
        "  <tbody>\n",
        "    <tr>\n",
        "      <th>0</th>\n",
        "      <td> 1</td>\n",
        "      <td> 1</td>\n",
        "      <td> 1</td>\n",
        "      <td> 1</td>\n",
        "      <td> 1</td>\n",
        "      <td> 3</td>\n",
        "      <td> 305</td>\n",
        "      <td> 973</td>\n",
        "      <td>NaN</td>\n",
        "      <td>NaN</td>\n",
        "      <td>...</td>\n",
        "      <td> G</td>\n",
        "      <td> 0</td>\n",
        "      <td> 0</td>\n",
        "      <td> 382566</td>\n",
        "      <td> 97305</td>\n",
        "      <td> N</td>\n",
        "      <td> 2</td>\n",
        "      <td> 97305</td>\n",
        "      <td> 97355</td>\n",
        "      <td> NaN</td>\n",
        "    </tr>\n",
        "    <tr>\n",
        "      <th>1</th>\n",
        "      <td> 1</td>\n",
        "      <td> 3</td>\n",
        "      <td> 1</td>\n",
        "      <td> 1</td>\n",
        "      <td> 1</td>\n",
        "      <td> 1</td>\n",
        "      <td> 305</td>\n",
        "      <td> 973</td>\n",
        "      <td>NaN</td>\n",
        "      <td>NaN</td>\n",
        "      <td>...</td>\n",
        "      <td> G</td>\n",
        "      <td> 0</td>\n",
        "      <td> 0</td>\n",
        "      <td> 450133</td>\n",
        "      <td> 97305</td>\n",
        "      <td> N</td>\n",
        "      <td> 5</td>\n",
        "      <td> 97305</td>\n",
        "      <td> 97355</td>\n",
        "      <td> NaN</td>\n",
        "    </tr>\n",
        "    <tr>\n",
        "      <th>2</th>\n",
        "      <td> 1</td>\n",
        "      <td> 3</td>\n",
        "      <td> 1</td>\n",
        "      <td> 1</td>\n",
        "      <td> 1</td>\n",
        "      <td> 7</td>\n",
        "      <td>   5</td>\n",
        "      <td> 973</td>\n",
        "      <td>NaN</td>\n",
        "      <td>NaN</td>\n",
        "      <td>...</td>\n",
        "      <td> G</td>\n",
        "      <td> 0</td>\n",
        "      <td> 0</td>\n",
        "      <td> 450144</td>\n",
        "      <td> 97305</td>\n",
        "      <td> N</td>\n",
        "      <td> 2</td>\n",
        "      <td> 97305</td>\n",
        "      <td> 97355</td>\n",
        "      <td> NaN</td>\n",
        "    </tr>\n",
        "    <tr>\n",
        "      <th>3</th>\n",
        "      <td> 1</td>\n",
        "      <td> 1</td>\n",
        "      <td> 1</td>\n",
        "      <td> 2</td>\n",
        "      <td> 1</td>\n",
        "      <td> 5</td>\n",
        "      <td> 305</td>\n",
        "      <td> 973</td>\n",
        "      <td>NaN</td>\n",
        "      <td>NaN</td>\n",
        "      <td>...</td>\n",
        "      <td> G</td>\n",
        "      <td> 0</td>\n",
        "      <td> 0</td>\n",
        "      <td> 453304</td>\n",
        "      <td> 97305</td>\n",
        "      <td> N</td>\n",
        "      <td> 3</td>\n",
        "      <td> 97305</td>\n",
        "      <td> 97355</td>\n",
        "      <td> NaN</td>\n",
        "    </tr>\n",
        "    <tr>\n",
        "      <th>4</th>\n",
        "      <td> 1</td>\n",
        "      <td> 2</td>\n",
        "      <td> 1</td>\n",
        "      <td> 1</td>\n",
        "      <td> 1</td>\n",
        "      <td> 2</td>\n",
        "      <td> 305</td>\n",
        "      <td> 973</td>\n",
        "      <td>NaN</td>\n",
        "      <td>NaN</td>\n",
        "      <td>...</td>\n",
        "      <td> G</td>\n",
        "      <td> 0</td>\n",
        "      <td> 0</td>\n",
        "      <td> 453305</td>\n",
        "      <td> 97305</td>\n",
        "      <td> N</td>\n",
        "      <td> 3</td>\n",
        "      <td> 97305</td>\n",
        "      <td> 97355</td>\n",
        "      <td> NaN</td>\n",
        "    </tr>\n",
        "  </tbody>\n",
        "</table>\n",
        "<p>5 rows \u00d7 41 columns</p>\n",
        "</div>"
       ],
       "metadata": {},
       "output_type": "pyout",
       "prompt_number": 172,
       "text": [
        "   org  lum  agg  int  atm  col  com  dep  catr  infra  ...    gps  lat long  \\\n",
        "0    1    1    1    1    1    3  305  973   NaN    NaN  ...      G    0    0   \n",
        "1    1    3    1    1    1    1  305  973   NaN    NaN  ...      G    0    0   \n",
        "2    1    3    1    1    1    7    5  973   NaN    NaN  ...      G    0    0   \n",
        "3    1    1    1    2    1    5  305  973   NaN    NaN  ...      G    0    0   \n",
        "4    1    2    1    1    1    2  305  973   NaN    NaN  ...      G    0    0   \n",
        "\n",
        "    numac  codeinsee geoflamatch  nbimplique  insee_com  postal_code  addr_tot  \n",
        "0  382566      97305           N           2      97305        97355       NaN  \n",
        "1  450133      97305           N           5      97305        97355       NaN  \n",
        "2  450144      97305           N           2      97305        97355       NaN  \n",
        "3  453304      97305           N           3      97305        97355       NaN  \n",
        "4  453305      97305           N           3      97305        97355       NaN  \n",
        "\n",
        "[5 rows x 41 columns]"
       ]
      }
     ],
     "prompt_number": 172
    }
   ],
   "metadata": {}
  }
 ]
}