{
 "metadata": {
  "name": "",
  "signature": "sha256:aed62e736f668af9a2bf5c50f5ed54dd5c25de0bd1b0af709ec08651e713925f"
 },
 "nbformat": 3,
 "nbformat_minor": 0,
 "worksheets": [
  {
   "cells": [
    {
     "cell_type": "code",
     "collapsed": false,
     "input": [
      "import functools\n",
      "import locale\n",
      "import sys\n",
      "import pandas as pd\n",
      "import numpy as np\n",
      "import matplotlib.pyplot as plt\n",
      "%matplotlib inline"
     ],
     "language": "python",
     "metadata": {},
     "outputs": [
      {
       "output_type": "stream",
       "stream": "stderr",
       "text": [
        "P:\\WinPython-64bit-2.7.6.3\\python-2.7.6.amd64\\lib\\site-packages\\pandas\\io\\excel.py:626: UserWarning: Installed openpyxl is not supported at this time. Use >=1.6.1 and <2.0.0.\n",
        "  .format(openpyxl_compat.start_ver, openpyxl_compat.stop_ver))\n"
       ]
      }
     ],
     "prompt_number": 1
    },
    {
     "cell_type": "code",
     "collapsed": false,
     "input": [
      "pd.set_option('display.max_columns', None)"
     ],
     "language": "python",
     "metadata": {},
     "outputs": [],
     "prompt_number": 2
    },
    {
     "cell_type": "markdown",
     "metadata": {},
     "source": [
      "## Load databases"
     ]
    },
    {
     "cell_type": "code",
     "collapsed": false,
     "input": [
      "ds = pd.read_csv('data2012/final2.csv', index_col=0)"
     ],
     "language": "python",
     "metadata": {},
     "outputs": [],
     "prompt_number": 3
    },
    {
     "cell_type": "code",
     "collapsed": false,
     "input": [
      "ok = (np.abs(ds.lat)>0) & (np.abs(ds.long)>0)\n",
      "todo = ~ok"
     ],
     "language": "python",
     "metadata": {},
     "outputs": [],
     "prompt_number": 8
    },
    {
     "cell_type": "code",
     "collapsed": false,
     "input": [
      "ok.sum()"
     ],
     "language": "python",
     "metadata": {},
     "outputs": [
      {
       "metadata": {},
       "output_type": "pyout",
       "prompt_number": 93,
       "text": [
        "21559"
       ]
      }
     ],
     "prompt_number": 93
    },
    {
     "cell_type": "markdown",
     "metadata": {},
     "source": [
      "Load insee_gps file"
     ]
    },
    {
     "cell_type": "code",
     "collapsed": false,
     "input": [
      "ds['insee_com'] = ds.dep.astype(str).str.slice(0,2).str.pad(2, side='right').str.replace(' ', '0') + \\\n",
      "    ds.com.astype(str).str.slice(0, 3).str.pad(3, side='right').str.replace(' ', '0')"
     ],
     "language": "python",
     "metadata": {},
     "outputs": [],
     "prompt_number": 10
    },
    {
     "cell_type": "code",
     "collapsed": false,
     "input": [
      "insee_gps = pd.read_csv('bano/average.csv')"
     ],
     "language": "python",
     "metadata": {},
     "outputs": [],
     "prompt_number": 15
    },
    {
     "cell_type": "code",
     "collapsed": false,
     "input": [
      "insee_gps.head(3)"
     ],
     "language": "python",
     "metadata": {},
     "outputs": [
      {
       "html": [
        "<div style=\"max-height:1000px;max-width:1500px;overflow:auto;\">\n",
        "<table border=\"1\" class=\"dataframe\">\n",
        "  <thead>\n",
        "    <tr style=\"text-align: right;\">\n",
        "      <th></th>\n",
        "      <th>insee_com</th>\n",
        "      <th>lat</th>\n",
        "      <th>lon</th>\n",
        "    </tr>\n",
        "  </thead>\n",
        "  <tbody>\n",
        "    <tr>\n",
        "      <th>0</th>\n",
        "      <td> 1001</td>\n",
        "      <td> 46.147991</td>\n",
        "      <td> 4.923114</td>\n",
        "    </tr>\n",
        "    <tr>\n",
        "      <th>1</th>\n",
        "      <td> 1004</td>\n",
        "      <td> 45.959574</td>\n",
        "      <td> 5.354651</td>\n",
        "    </tr>\n",
        "    <tr>\n",
        "      <th>2</th>\n",
        "      <td> 1005</td>\n",
        "      <td> 45.996579</td>\n",
        "      <td> 4.905945</td>\n",
        "    </tr>\n",
        "  </tbody>\n",
        "</table>\n",
        "</div>"
       ],
       "metadata": {},
       "output_type": "pyout",
       "prompt_number": 16,
       "text": [
        "   insee_com        lat       lon\n",
        "0       1001  46.147991  4.923114\n",
        "1       1004  45.959574  5.354651\n",
        "2       1005  45.996579  4.905945"
       ]
      }
     ],
     "prompt_number": 16
    },
    {
     "cell_type": "markdown",
     "metadata": {},
     "source": [
      "Ensure 5 characters for insee_com."
     ]
    },
    {
     "cell_type": "code",
     "collapsed": false,
     "input": [
      "insee_gps['insee_com'] = insee_gps['insee_com'].astype(str).str.pad(5, side='left').str.replace(' ', '0')"
     ],
     "language": "python",
     "metadata": {},
     "outputs": [],
     "prompt_number": 17
    },
    {
     "cell_type": "code",
     "collapsed": false,
     "input": [
      "insee_gps['long'] = insee_gps['lon']"
     ],
     "language": "python",
     "metadata": {},
     "outputs": [],
     "prompt_number": 20
    },
    {
     "cell_type": "markdown",
     "metadata": {},
     "source": [
      "### Add strip1 insee_com"
     ]
    },
    {
     "cell_type": "code",
     "collapsed": false,
     "input": [
      "insee_gps['insee_com_strip1'] = insee_gps['insee_com'].str.slice(0,4)"
     ],
     "language": "python",
     "metadata": {},
     "outputs": [],
     "prompt_number": 57
    },
    {
     "cell_type": "code",
     "collapsed": false,
     "input": [
      "insee_gps.tail(3)"
     ],
     "language": "python",
     "metadata": {},
     "outputs": [
      {
       "html": [
        "<div style=\"max-height:1000px;max-width:1500px;overflow:auto;\">\n",
        "<table border=\"1\" class=\"dataframe\">\n",
        "  <thead>\n",
        "    <tr style=\"text-align: right;\">\n",
        "      <th></th>\n",
        "      <th>insee_com</th>\n",
        "      <th>lat</th>\n",
        "      <th>lon</th>\n",
        "      <th>long</th>\n",
        "      <th>insee_com_strip1</th>\n",
        "    </tr>\n",
        "  </thead>\n",
        "  <tbody>\n",
        "    <tr>\n",
        "      <th>24035</th>\n",
        "      <td> 95675</td>\n",
        "      <td> 49.057200</td>\n",
        "      <td> 2.539849</td>\n",
        "      <td> 2.539849</td>\n",
        "      <td> 9567</td>\n",
        "    </tr>\n",
        "    <tr>\n",
        "      <th>24036</th>\n",
        "      <td> 95680</td>\n",
        "      <td> 49.001189</td>\n",
        "      <td> 2.413650</td>\n",
        "      <td> 2.413650</td>\n",
        "      <td> 9568</td>\n",
        "    </tr>\n",
        "    <tr>\n",
        "      <th>24037</th>\n",
        "      <td> 95682</td>\n",
        "      <td> 49.073455</td>\n",
        "      <td> 2.390789</td>\n",
        "      <td> 2.390789</td>\n",
        "      <td> 9568</td>\n",
        "    </tr>\n",
        "  </tbody>\n",
        "</table>\n",
        "</div>"
       ],
       "metadata": {},
       "output_type": "pyout",
       "prompt_number": 58,
       "text": [
        "      insee_com        lat       lon      long insee_com_strip1\n",
        "24035     95675  49.057200  2.539849  2.539849             9567\n",
        "24036     95680  49.001189  2.413650  2.413650             9568\n",
        "24037     95682  49.073455  2.390789  2.390789             9568"
       ]
      }
     ],
     "prompt_number": 58
    },
    {
     "cell_type": "code",
     "collapsed": false,
     "input": [
      "ds['insee_com_strip1'] = ds['insee_com'].str.slice(0,4)"
     ],
     "language": "python",
     "metadata": {},
     "outputs": [],
     "prompt_number": 59
    },
    {
     "cell_type": "markdown",
     "metadata": {},
     "source": [
      "### Merge with insee_com"
     ]
    },
    {
     "cell_type": "code",
     "collapsed": false,
     "input": [
      "merge0 = ds[['insee_com']].merge(insee_gps[['insee_com', 'lat', 'long']], how='left',\n",
      "               left_on='insee_com', right_on='insee_com')"
     ],
     "language": "python",
     "metadata": {},
     "outputs": [],
     "prompt_number": 60
    },
    {
     "cell_type": "code",
     "collapsed": false,
     "input": [
      "merge0 = merge0.set_index(ds.index)"
     ],
     "language": "python",
     "metadata": {},
     "outputs": [],
     "prompt_number": 87
    },
    {
     "cell_type": "code",
     "collapsed": false,
     "input": [
      "((np.abs(merge0.lat)>0) & (np.abs(merge0.long)>0)).sum()"
     ],
     "language": "python",
     "metadata": {},
     "outputs": [
      {
       "metadata": {},
       "output_type": "pyout",
       "prompt_number": 61,
       "text": [
        "38056"
       ]
      }
     ],
     "prompt_number": 61
    },
    {
     "cell_type": "code",
     "collapsed": false,
     "input": [
      "merge0.tail()"
     ],
     "language": "python",
     "metadata": {},
     "outputs": [
      {
       "html": [
        "<div style=\"max-height:1000px;max-width:1500px;overflow:auto;\">\n",
        "<table border=\"1\" class=\"dataframe\">\n",
        "  <thead>\n",
        "    <tr style=\"text-align: right;\">\n",
        "      <th></th>\n",
        "      <th>insee_com</th>\n",
        "      <th>lat</th>\n",
        "      <th>long</th>\n",
        "    </tr>\n",
        "  </thead>\n",
        "  <tbody>\n",
        "    <tr>\n",
        "      <th>62245</th>\n",
        "      <td> 97490</td>\n",
        "      <td>NaN</td>\n",
        "      <td>NaN</td>\n",
        "    </tr>\n",
        "    <tr>\n",
        "      <th>62246</th>\n",
        "      <td> 97490</td>\n",
        "      <td>NaN</td>\n",
        "      <td>NaN</td>\n",
        "    </tr>\n",
        "    <tr>\n",
        "      <th>62247</th>\n",
        "      <td> 97480</td>\n",
        "      <td>NaN</td>\n",
        "      <td>NaN</td>\n",
        "    </tr>\n",
        "    <tr>\n",
        "      <th>62248</th>\n",
        "      <td> 97560</td>\n",
        "      <td>NaN</td>\n",
        "      <td>NaN</td>\n",
        "    </tr>\n",
        "    <tr>\n",
        "      <th>62249</th>\n",
        "      <td> 97560</td>\n",
        "      <td>NaN</td>\n",
        "      <td>NaN</td>\n",
        "    </tr>\n",
        "  </tbody>\n",
        "</table>\n",
        "</div>"
       ],
       "metadata": {},
       "output_type": "pyout",
       "prompt_number": 62,
       "text": [
        "      insee_com  lat  long\n",
        "62245     97490  NaN   NaN\n",
        "62246     97490  NaN   NaN\n",
        "62247     97480  NaN   NaN\n",
        "62248     97560  NaN   NaN\n",
        "62249     97560  NaN   NaN"
       ]
      }
     ],
     "prompt_number": 62
    },
    {
     "cell_type": "markdown",
     "metadata": {},
     "source": [
      "### Merge with insee_com strip1"
     ]
    },
    {
     "cell_type": "code",
     "collapsed": false,
     "input": [
      "insee_gps_strip1 = insee_gps.groupby('insee_com_strip1')[['lat', 'long']].mean()\n",
      "insee_gps_strip1.tail()"
     ],
     "language": "python",
     "metadata": {},
     "outputs": [
      {
       "html": [
        "<div style=\"max-height:1000px;max-width:1500px;overflow:auto;\">\n",
        "<table border=\"1\" class=\"dataframe\">\n",
        "  <thead>\n",
        "    <tr style=\"text-align: right;\">\n",
        "      <th></th>\n",
        "      <th>lat</th>\n",
        "      <th>long</th>\n",
        "    </tr>\n",
        "    <tr>\n",
        "      <th>insee_com_strip1</th>\n",
        "      <th></th>\n",
        "      <th></th>\n",
        "    </tr>\n",
        "  </thead>\n",
        "  <tbody>\n",
        "    <tr>\n",
        "      <th>9563</th>\n",
        "      <td> 49.014323</td>\n",
        "      <td> 2.254721</td>\n",
        "    </tr>\n",
        "    <tr>\n",
        "      <th>9564</th>\n",
        "      <td> 49.069727</td>\n",
        "      <td> 2.570513</td>\n",
        "    </tr>\n",
        "    <tr>\n",
        "      <th>9565</th>\n",
        "      <td> 49.102558</td>\n",
        "      <td> 2.152096</td>\n",
        "    </tr>\n",
        "    <tr>\n",
        "      <th>9567</th>\n",
        "      <td> 49.057200</td>\n",
        "      <td> 2.539849</td>\n",
        "    </tr>\n",
        "    <tr>\n",
        "      <th>9568</th>\n",
        "      <td> 49.037322</td>\n",
        "      <td> 2.402219</td>\n",
        "    </tr>\n",
        "  </tbody>\n",
        "</table>\n",
        "</div>"
       ],
       "metadata": {},
       "output_type": "pyout",
       "prompt_number": 70,
       "text": [
        "                        lat      long\n",
        "insee_com_strip1                     \n",
        "9563              49.014323  2.254721\n",
        "9564              49.069727  2.570513\n",
        "9565              49.102558  2.152096\n",
        "9567              49.057200  2.539849\n",
        "9568              49.037322  2.402219"
       ]
      }
     ],
     "prompt_number": 70
    },
    {
     "cell_type": "code",
     "collapsed": false,
     "input": [
      "merge1 = ds[['insee_com_strip1']].merge(insee_gps_strip1, \n",
      "                                        how='left',\n",
      "               left_on='insee_com_strip1', right_index=True)"
     ],
     "language": "python",
     "metadata": {},
     "outputs": [],
     "prompt_number": 71
    },
    {
     "cell_type": "code",
     "collapsed": false,
     "input": [
      "merge1 = merge1.set_index(ds.index)"
     ],
     "language": "python",
     "metadata": {},
     "outputs": [],
     "prompt_number": 88
    },
    {
     "cell_type": "code",
     "collapsed": false,
     "input": [
      "((np.abs(merge1.lat)>0) & (np.abs(merge1.long)>0)).sum()"
     ],
     "language": "python",
     "metadata": {},
     "outputs": [
      {
       "metadata": {},
       "output_type": "pyout",
       "prompt_number": 89,
       "text": [
        "41041"
       ]
      }
     ],
     "prompt_number": 89
    },
    {
     "cell_type": "markdown",
     "metadata": {},
     "source": [
      "### Put back latlong in ds"
     ]
    },
    {
     "cell_type": "code",
     "collapsed": false,
     "input": [
      "ds['lat'][todo] = merge0['lat'][todo]"
     ],
     "language": "python",
     "metadata": {},
     "outputs": [],
     "prompt_number": 100
    },
    {
     "cell_type": "code",
     "collapsed": false,
     "input": [
      "ds['long'][todo] = merge0['long'][todo]"
     ],
     "language": "python",
     "metadata": {},
     "outputs": [],
     "prompt_number": 102
    },
    {
     "cell_type": "code",
     "collapsed": false,
     "input": [
      "((np.abs(ds.lat)>0) & (np.abs(ds.long)>0)).sum()"
     ],
     "language": "python",
     "metadata": {},
     "outputs": [
      {
       "metadata": {},
       "output_type": "pyout",
       "prompt_number": 103,
       "text": [
        "47591"
       ]
      }
     ],
     "prompt_number": 103
    },
    {
     "cell_type": "markdown",
     "metadata": {},
     "source": [
      "idem for strip1"
     ]
    },
    {
     "cell_type": "code",
     "collapsed": false,
     "input": [
      "ok_merge = (np.abs(ds.lat)>0) & (np.abs(ds.long)>0)\n",
      "todo_merge = ~ok_merge"
     ],
     "language": "python",
     "metadata": {},
     "outputs": [],
     "prompt_number": 104
    },
    {
     "cell_type": "code",
     "collapsed": false,
     "input": [
      "ds['lat'][todo_merge] = merge1['lat'][todo_merge]"
     ],
     "language": "python",
     "metadata": {},
     "outputs": [],
     "prompt_number": 106
    },
    {
     "cell_type": "code",
     "collapsed": false,
     "input": [
      "ds['long'][todo_merge] = merge1['long'][todo_merge]"
     ],
     "language": "python",
     "metadata": {},
     "outputs": [],
     "prompt_number": 107
    },
    {
     "cell_type": "code",
     "collapsed": false,
     "input": [
      "((np.abs(ds.lat)>0) & (np.abs(ds.long)>0)).sum()"
     ],
     "language": "python",
     "metadata": {},
     "outputs": [
      {
       "metadata": {},
       "output_type": "pyout",
       "prompt_number": 108,
       "text": [
        "54353"
       ]
      }
     ],
     "prompt_number": 108
    },
    {
     "cell_type": "code",
     "collapsed": false,
     "input": [
      "del ds['insee_com_strip1']"
     ],
     "language": "python",
     "metadata": {},
     "outputs": [],
     "prompt_number": 110
    },
    {
     "cell_type": "code",
     "collapsed": false,
     "input": [
      "((np.abs(ds.lat)>0) & (np.abs(ds.long)>0)).sum()/float(len(ds))"
     ],
     "language": "python",
     "metadata": {},
     "outputs": [
      {
       "metadata": {},
       "output_type": "pyout",
       "prompt_number": 112,
       "text": [
        "0.87314056224899594"
       ]
      }
     ],
     "prompt_number": 112
    },
    {
     "cell_type": "code",
     "collapsed": false,
     "input": [
      "ds.to_csv('data2012/final3.csv', encoding='utf8')"
     ],
     "language": "python",
     "metadata": {},
     "outputs": [],
     "prompt_number": 114
    },
    {
     "cell_type": "markdown",
     "metadata": {},
     "source": [
      "after strip1"
     ]
    },
    {
     "cell_type": "code",
     "collapsed": false,
     "input": [
      "ok_split1 = (np.abs(ds.lat)>0) & (np.abs(ds.long)>0)\n",
      "todo_split1 = ~ok_split1"
     ],
     "language": "python",
     "metadata": {},
     "outputs": [],
     "prompt_number": 115
    },
    {
     "cell_type": "code",
     "collapsed": false,
     "input": [
      "ds[todo_split1].head(2)"
     ],
     "language": "python",
     "metadata": {},
     "outputs": [
      {
       "html": [
        "<div style=\"max-height:1000px;max-width:1500px;overflow:auto;\">\n",
        "<table border=\"1\" class=\"dataframe\">\n",
        "  <thead>\n",
        "    <tr style=\"text-align: right;\">\n",
        "      <th></th>\n",
        "      <th>an</th>\n",
        "      <th>mois</th>\n",
        "      <th>jour</th>\n",
        "      <th>hrmn</th>\n",
        "      <th>lum</th>\n",
        "      <th>agg</th>\n",
        "      <th>int</th>\n",
        "      <th>atm</th>\n",
        "      <th>col</th>\n",
        "      <th>com</th>\n",
        "      <th>adr</th>\n",
        "      <th>gps</th>\n",
        "      <th>lat</th>\n",
        "      <th>long</th>\n",
        "      <th>dep</th>\n",
        "      <th>gravite</th>\n",
        "      <th>nbimpliques</th>\n",
        "      <th>age_0</th>\n",
        "      <th>age_1</th>\n",
        "      <th>age_2</th>\n",
        "      <th>age_3</th>\n",
        "      <th>age_4</th>\n",
        "      <th>hommes</th>\n",
        "      <th>femmes</th>\n",
        "      <th>catr</th>\n",
        "      <th>circ</th>\n",
        "      <th>nbv</th>\n",
        "      <th>vosp</th>\n",
        "      <th>prof</th>\n",
        "      <th>plan</th>\n",
        "      <th>lartpc</th>\n",
        "      <th>larrout</th>\n",
        "      <th>surf</th>\n",
        "      <th>infra</th>\n",
        "      <th>situ</th>\n",
        "      <th>env1</th>\n",
        "      <th>dayofweek</th>\n",
        "      <th>postal_code</th>\n",
        "      <th>nom_comm</th>\n",
        "      <th>nom_dept</th>\n",
        "      <th>nom_region</th>\n",
        "      <th>sex</th>\n",
        "      <th>details_usagers</th>\n",
        "      <th>details_vehicules</th>\n",
        "      <th>datefull</th>\n",
        "      <th>atm_text</th>\n",
        "      <th>lum_text</th>\n",
        "      <th>catr_text</th>\n",
        "      <th>int_text</th>\n",
        "      <th>infra_text</th>\n",
        "      <th>col_text</th>\n",
        "      <th>insee_com</th>\n",
        "    </tr>\n",
        "    <tr>\n",
        "      <th>Num_Acc</th>\n",
        "      <th></th>\n",
        "      <th></th>\n",
        "      <th></th>\n",
        "      <th></th>\n",
        "      <th></th>\n",
        "      <th></th>\n",
        "      <th></th>\n",
        "      <th></th>\n",
        "      <th></th>\n",
        "      <th></th>\n",
        "      <th></th>\n",
        "      <th></th>\n",
        "      <th></th>\n",
        "      <th></th>\n",
        "      <th></th>\n",
        "      <th></th>\n",
        "      <th></th>\n",
        "      <th></th>\n",
        "      <th></th>\n",
        "      <th></th>\n",
        "      <th></th>\n",
        "      <th></th>\n",
        "      <th></th>\n",
        "      <th></th>\n",
        "      <th></th>\n",
        "      <th></th>\n",
        "      <th></th>\n",
        "      <th></th>\n",
        "      <th></th>\n",
        "      <th></th>\n",
        "      <th></th>\n",
        "      <th></th>\n",
        "      <th></th>\n",
        "      <th></th>\n",
        "      <th></th>\n",
        "      <th></th>\n",
        "      <th></th>\n",
        "      <th></th>\n",
        "      <th></th>\n",
        "      <th></th>\n",
        "      <th></th>\n",
        "      <th></th>\n",
        "      <th></th>\n",
        "      <th></th>\n",
        "      <th></th>\n",
        "      <th></th>\n",
        "      <th></th>\n",
        "      <th></th>\n",
        "      <th></th>\n",
        "      <th></th>\n",
        "      <th></th>\n",
        "      <th></th>\n",
        "    </tr>\n",
        "  </thead>\n",
        "  <tbody>\n",
        "    <tr>\n",
        "      <th>201200000399</th>\n",
        "      <td> 12</td>\n",
        "      <td> 7</td>\n",
        "      <td> 18</td>\n",
        "      <td> 1500</td>\n",
        "      <td> 1</td>\n",
        "      <td> 1</td>\n",
        "      <td> 1</td>\n",
        "      <td> 1</td>\n",
        "      <td> 7</td>\n",
        "      <td>  14</td>\n",
        "      <td> NaN</td>\n",
        "      <td> M</td>\n",
        "      <td>NaN</td>\n",
        "      <td>NaN</td>\n",
        "      <td> 20</td>\n",
        "      <td> 1</td>\n",
        "      <td> 1</td>\n",
        "      <td> 0</td>\n",
        "      <td> 0</td>\n",
        "      <td> 0</td>\n",
        "      <td> 1</td>\n",
        "      <td> 0</td>\n",
        "      <td> 1</td>\n",
        "      <td> 0</td>\n",
        "      <td> 3</td>\n",
        "      <td> 2</td>\n",
        "      <td> 2</td>\n",
        "      <td> 0</td>\n",
        "      <td> 1</td>\n",
        "      <td> 1</td>\n",
        "      <td> 0</td>\n",
        "      <td> 60</td>\n",
        "      <td> 1</td>\n",
        "      <td> 0</td>\n",
        "      <td> 1</td>\n",
        "      <td> 1</td>\n",
        "      <td> 2</td>\n",
        "      <td> NaN</td>\n",
        "      <td> NaN</td>\n",
        "      <td> NaN</td>\n",
        "      <td> NaN</td>\n",
        "      <td> 1</td>\n",
        "      <td> homme, 22 ans, bless\u00e9(e) hospitalis\u00e9(e), condu...</td>\n",
        "      <td> moto, sans changement de direction</td>\n",
        "      <td> mercredi 18/07/2012 15:00</td>\n",
        "      <td>      Normale</td>\n",
        "      <td>         Plein jour</td>\n",
        "      <td> Route d\u00e9partementale</td>\n",
        "      <td> Hors intersection</td>\n",
        "      <td> NaN</td>\n",
        "      <td> NaN</td>\n",
        "      <td> 20140</td>\n",
        "    </tr>\n",
        "    <tr>\n",
        "      <th>201200000434</th>\n",
        "      <td> 12</td>\n",
        "      <td> 1</td>\n",
        "      <td>  5</td>\n",
        "      <td>  810</td>\n",
        "      <td> 2</td>\n",
        "      <td> 1</td>\n",
        "      <td> 1</td>\n",
        "      <td> 2</td>\n",
        "      <td> 6</td>\n",
        "      <td> 703</td>\n",
        "      <td> NaN</td>\n",
        "      <td> M</td>\n",
        "      <td>NaN</td>\n",
        "      <td>NaN</td>\n",
        "      <td> 20</td>\n",
        "      <td> 2</td>\n",
        "      <td> 1</td>\n",
        "      <td> 0</td>\n",
        "      <td> 1</td>\n",
        "      <td> 1</td>\n",
        "      <td> 0</td>\n",
        "      <td> 0</td>\n",
        "      <td> 2</td>\n",
        "      <td> 0</td>\n",
        "      <td> 3</td>\n",
        "      <td> 2</td>\n",
        "      <td> 1</td>\n",
        "      <td> 0</td>\n",
        "      <td> 1</td>\n",
        "      <td> 1</td>\n",
        "      <td> 0</td>\n",
        "      <td> 56</td>\n",
        "      <td> 2</td>\n",
        "      <td> 0</td>\n",
        "      <td> 1</td>\n",
        "      <td> 1</td>\n",
        "      <td> 3</td>\n",
        "      <td> NaN</td>\n",
        "      <td> NaN</td>\n",
        "      <td> NaN</td>\n",
        "      <td> NaN</td>\n",
        "      <td> 1</td>\n",
        "      <td> homme, 54 ans, indemne, conducteur ceintur\u00e9(e)...</td>\n",
        "      <td>      voiture, m\u00eame sens, m\u00eame file</td>\n",
        "      <td>    jeudi 05/01/2012 08:10</td>\n",
        "      <td> Pluie l\u00e9g\u00e8re</td>\n",
        "      <td> Cr\u00e9puscule ou aube</td>\n",
        "      <td> Route d\u00e9partementale</td>\n",
        "      <td> Hors intersection</td>\n",
        "      <td> NaN</td>\n",
        "      <td> NaN</td>\n",
        "      <td> 20703</td>\n",
        "    </tr>\n",
        "  </tbody>\n",
        "</table>\n",
        "</div>"
       ],
       "metadata": {},
       "output_type": "pyout",
       "prompt_number": 117,
       "text": [
        "              an  mois  jour  hrmn  lum  agg  int  atm  col  com  adr gps  \\\n",
        "Num_Acc                                                                     \n",
        "201200000399  12     7    18  1500    1    1    1    1    7   14  NaN   M   \n",
        "201200000434  12     1     5   810    2    1    1    2    6  703  NaN   M   \n",
        "\n",
        "              lat  long  dep  gravite  nbimpliques  age_0  age_1  age_2  \\\n",
        "Num_Acc                                                                   \n",
        "201200000399  NaN   NaN   20        1            1      0      0      0   \n",
        "201200000434  NaN   NaN   20        2            1      0      1      1   \n",
        "\n",
        "              age_3  age_4  hommes  femmes  catr  circ  nbv  vosp  prof  plan  \\\n",
        "Num_Acc                                                                         \n",
        "201200000399      1      0       1       0     3     2    2     0     1     1   \n",
        "201200000434      0      0       2       0     3     2    1     0     1     1   \n",
        "\n",
        "              lartpc  larrout  surf  infra  situ  env1  dayofweek postal_code  \\\n",
        "Num_Acc                                                                         \n",
        "201200000399       0       60     1      0     1     1          2         NaN   \n",
        "201200000434       0       56     2      0     1     1          3         NaN   \n",
        "\n",
        "             nom_comm nom_dept nom_region  sex  \\\n",
        "Num_Acc                                          \n",
        "201200000399      NaN      NaN        NaN    1   \n",
        "201200000434      NaN      NaN        NaN    1   \n",
        "\n",
        "                                                details_usagers  \\\n",
        "Num_Acc                                                           \n",
        "201200000399  homme, 22 ans, bless\u00e9(e) hospitalis\u00e9(e), condu...   \n",
        "201200000434  homme, 54 ans, indemne, conducteur ceintur\u00e9(e)...   \n",
        "\n",
        "                               details_vehicules                   datefull  \\\n",
        "Num_Acc                                                                       \n",
        "201200000399  moto, sans changement de direction  mercredi 18/07/2012 15:00   \n",
        "201200000434       voiture, m\u00eame sens, m\u00eame file     jeudi 05/01/2012 08:10   \n",
        "\n",
        "                  atm_text            lum_text             catr_text  \\\n",
        "Num_Acc                                                                \n",
        "201200000399       Normale          Plein jour  Route d\u00e9partementale   \n",
        "201200000434  Pluie l\u00e9g\u00e8re  Cr\u00e9puscule ou aube  Route d\u00e9partementale   \n",
        "\n",
        "                       int_text infra_text col_text insee_com  \n",
        "Num_Acc                                                        \n",
        "201200000399  Hors intersection        NaN      NaN     20140  \n",
        "201200000434  Hors intersection        NaN      NaN     20703  "
       ]
      }
     ],
     "prompt_number": 117
    },
    {
     "cell_type": "code",
     "collapsed": false,
     "input": [],
     "language": "python",
     "metadata": {},
     "outputs": []
    }
   ],
   "metadata": {}
  }
 ]
}